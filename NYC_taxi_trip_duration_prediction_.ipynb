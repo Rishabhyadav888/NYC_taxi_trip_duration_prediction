{
  "nbformat": 4,
  "nbformat_minor": 0,
  "metadata": {
    "colab": {
      "private_outputs": true,
      "provenance": [],
      "collapsed_sections": [
        "vncDsAP0Gaoa",
        "FJNUwmbgGyua",
        "w6K7xa23Elo4",
        "yQaldy8SH6Dl",
        "mDgbUHAGgjLW",
        "O_i_v8NEhb9l",
        "HhfV-JJviCcP",
        "Y3lxredqlCYt",
        "3RnN4peoiCZX",
        "x71ZqKXriCWQ",
        "7hBIi_osiCS2",
        "JlHwYmJAmNHm",
        "35m5QtbWiB9F",
        "PoPl-ycgm1ru",
        "H0kj-8xxnORC",
        "nA9Y7ga8ng1Z",
        "PBTbrJXOngz2",
        "u3PMJOP6ngxN",
        "dauF4eBmngu3",
        "bKJF3rekwFvQ",
        "MSa1f5Uengrz",
        "GF8Ens_Soomf",
        "0wOQAZs5pc--",
        "K5QZ13OEpz2H",
        "lQ7QKXXCp7Bj",
        "448CDAPjqfQr",
        "KSlN3yHqYklG",
        "t6dVpIINYklI",
        "ijmpgYnKYklI",
        "-JiQyfWJYklI",
        "EM7whBJCYoAo",
        "fge-S5ZAYoAp",
        "85gYPyotYoAp",
        "RoGjAbkUYoAp",
        "4Of9eVA-YrdM",
        "iky9q4vBYrdO",
        "F6T5p64dYrdO",
        "y-Ehk30pYrdP",
        "bamQiAODYuh1",
        "QHF8YVU7Yuh3",
        "GwzvFGzlYuh3",
        "qYpmQ266Yuh3",
        "OH-pJp9IphqM",
        "bbFf2-_FphqN",
        "_ouA3fa0phqN",
        "Seke61FWphqN",
        "PIIx-8_IphqN",
        "t27r6nlMphqO",
        "r2jJGEOYphqO",
        "b0JNsNcRphqO",
        "BZR9WyysphqO",
        "jj7wYXLtphqO",
        "eZrbJ2SmphqO",
        "rFu4xreNphqO",
        "YJ55k-q6phqO",
        "gCFgpxoyphqP",
        "OVtJsKN_phqQ",
        "lssrdh5qphqQ",
        "U2RJ9gkRphqQ",
        "1M8mcRywphqQ",
        "tgIPom80phqQ",
        "JMzcOPDDphqR",
        "x-EpHcCOp1ci",
        "X_VqEhTip1ck",
        "8zGJKyg5p1ck",
        "PVzmfK_Ep1ck",
        "n3dbpmDWp1ck",
        "ylSl6qgtp1ck",
        "ZWILFDl5p1ck",
        "M7G43BXep1ck",
        "Ag9LCva-p1cl",
        "E6MkPsBcp1cl",
        "2cELzS2fp1cl",
        "3MPXvC8up1cl",
        "NC_X3p0fY2L0",
        "UV0SzAkaZNRQ",
        "YPEH6qLeZNRQ",
        "q29F0dvdveiT",
        "EXh0U9oCveiU",
        "22aHeOlLveiV",
        "g-ATYxFrGrvw",
        "Yfr_Vlr8HBkt",
        "8yEUt7NnHlrM",
        "tEA2Xm5dHt1r",
        "I79__PHVH19G",
        "Ou-I18pAyIpj",
        "fF3858GYyt-u",
        "4_0_7-oCpUZd",
        "hwyV_J3ipUZe",
        "3yB-zSqbpUZe",
        "dEUvejAfpUZe",
        "Fd15vwWVpUZf",
        "bn_IUdTipZyH",
        "49K5P_iCpZyH",
        "Nff-vKELpZyI",
        "kLW572S8pZyI",
        "dWbDXHzopZyI",
        "yLjJCtPM0KBk",
        "xiyOF9F70UgQ",
        "7wuGOrhz0itI",
        "id1riN9m0vUs",
        "578E2V7j08f6",
        "89xtkJwZ18nB",
        "67NQN5KX2AMe",
        "Iwf50b-R2tYG",
        "GMQiZwjn3iu7",
        "WVIkgGqN3qsr",
        "XkPnILGE3zoT",
        "Hlsf0x5436Go",
        "mT9DMSJo4nBL",
        "c49ITxTc407N",
        "OeJFEK0N496M",
        "9ExmJH0g5HBk",
        "cJNqERVU536h",
        "k5UmGsbsOxih",
        "T0VqWOYE6DLQ",
        "qBMux9mC6MCf",
        "-oLEiFgy-5Pf",
        "C74aWNz2AliB",
        "2DejudWSA-a0",
        "pEMng2IbBLp7",
        "rAdphbQ9Bhjc",
        "TNVZ9zx19K6k",
        "nqoHp30x9hH9",
        "rMDnDkt2B6du",
        "yiiVWRdJDDil",
        "1UUpS68QDMuG",
        "kexQrXU-DjzY",
        "T5CmagL3EC8N",
        "BhH2vgX9EjGr",
        "qjKvONjwE8ra",
        "P1XJ9OREExlT",
        "VFOzZv6IFROw",
        "TIqpNgepFxVj",
        "VfCC591jGiD4",
        "OB4l2ZhMeS1U",
        "ArJBuiUVfxKd",
        "4qY1EAkEfxKe",
        "PiV4Ypx8fxKe",
        "TfvqoZmBfxKf",
        "dJ2tPlVmpsJ0",
        "JWYfwnehpsJ1",
        "-jK_YjpMpsJ2",
        "HAih1iBOpsJ2",
        "zVGeBEFhpsJ2",
        "bmKjuQ-FpsJ3",
        "Fze-IPXLpx6K",
        "7AN1z2sKpx6M",
        "9PIHJqyupx6M",
        "_-qAgymDpx6N",
        "Z-hykwinpx6N",
        "h_CCil-SKHpo",
        "cBFFvTBNJzUa",
        "HvGl1hHyA_VK",
        "EyNgTHvd2WFk",
        "KH5McJBi2d8v",
        "iW_Lq9qf2h6X",
        "-Kee-DAl2viO",
        "gCX9965dhzqZ",
        "gIfDvo9L0UH2"
      ],
      "include_colab_link": true
    },
    "kernelspec": {
      "name": "python3",
      "display_name": "Python 3"
    },
    "language_info": {
      "name": "python"
    }
  },
  "cells": [
    {
      "cell_type": "markdown",
      "metadata": {
        "id": "view-in-github",
        "colab_type": "text"
      },
      "source": [
        "<a href=\"https://colab.research.google.com/github/Rishabhyadav888/NYC_taxi_trip_duration_prediction/blob/main/NYC_taxi_trip_duration_prediction_.ipynb\" target=\"_parent\"><img src=\"https://colab.research.google.com/assets/colab-badge.svg\" alt=\"Open In Colab\"/></a>"
      ]
    },
    {
      "cell_type": "markdown",
      "source": [
        "# **Project Name**    - \n",
        "\n"
      ],
      "metadata": {
        "id": "vncDsAP0Gaoa"
      }
    },
    {
      "cell_type": "markdown",
      "source": [
        "##### **Project Type**    - Regression\n",
        "##### **Contribution**    - Individual\n",
        "##### **Team Member 1 - Rishabh Kumar Yaddav**\n"
      ],
      "metadata": {
        "id": "beRrZCGUAJYm"
      }
    },
    {
      "cell_type": "markdown",
      "source": [
        "# **Project Summary -**"
      ],
      "metadata": {
        "id": "FJNUwmbgGyua"
      }
    },
    {
      "cell_type": "markdown",
      "source": [
        "\n",
        "The New York City Taxi Trip Duration prediction project aims to build a machine learning model to predict the duration of a taxi ride given certain features such as pickup and dropoff coordinates, pickup datetime, and the number of passengers. The dataset used for this project contains information about 1.4 million taxi rides in New York City.\n",
        "\n",
        "The dataset is preprocessed by converting the pickup and dropoff timestamps to datetime objects and extracting additional features such as the day of the week, hour of the day, and whether the trip was taken during rush hour or not. The pickup and dropoff coordinates are also used to calculate the distance between the pickup and dropoff locations using the Geopy in Python library.\n",
        "Next, the project starts with data exploration and visualization to gain insights into the data. The exploratory data analysis includes scatterplots, histograms, pointplot and heatmaps to understand the distribution and correlation of the features in the dataset. The analysis shows that the duration of the taxi rides is positively skewed. Based on data exploitation and visualization the insights gained. The data was cleaned to remove outliers and inconsistencies. Trips lasting more than 24 hours or as little as 1 to 30 seconds were removed as they were likely outstation travel or trips with zero distance. Most trips had a single passenger, so zero passenger counts were replaced with one and trips with more than six passengers were removed to align with NYC regulations. Trips exceeding 100 km and speeds over 104 km/hour were considered outliers and removed. The trend of taxi pickups increased from 6AM to late evening around 8 PM, with the busiest hours being 6:00 pm to 7:00 pm, likely due to people returning home from work. There was a trend of increasing taxi pickups from Monday to Friday, with a decline from Saturday to Monday. Trips with zero distance but more than one minute of travel time were removed, likely due to cancelled bookings. Trips taking more than an hour to cover one or two kilometers were also removed, as this was highly unlikely in a developed city like NYC. These cleaning operations ensured that the data was more consistent and reliable for further analysis. VIF values are less than or equal to 5. so there is no high correlation among features.\n",
        "\n",
        "\n",
        "The next step involved feature engineering, where the store_and_fwd_flag feature was encoded using label encoding with Y:1 and N:0. For month and weekday features containing more than two categories, one-hot encoding was used. An 80/20 split ratio was used for model learning and evaluation. Recursive feature selection was employed for feature selection, and backward elimination was done based on the coefficient value of each feature by running different combinations. The selected features included pickup_longitude, pickup_latitude, dropoff_longitude, dropoff_latitude, distance, speed, month_June, month_May, weekday_Monday, and weekday_Sunday. Standard scalar was used for data scaling to normalize the features as they had different value ranges. Power transform was used to normally distribute the non-normally distributed input features, and linear regression model was trained and evaluated with an R2 score of 0.75 on the transformed data. This feature engineering process enabled the data to be prepared and modeled for further analysis.\n",
        "\n",
        "Linear regression was used to train and test the data for this regression problem. The model was evaluated using RMSE, R2 score, and adjusted R2 score, resulting in an R2 score of 0.80 and an RMSE of 296 seconds on the testing dataset.\n",
        "\n",
        "RandomizedSearchCV was used for hyperparameter tuning due to the large dataset of approximately 1.4 million records, and there was no improvement in accuracy after the tuning process. The ridge and lasso models yielded the same result as the R2 score remained at 0.80.\n",
        "\n",
        "Due to the large dataset of approximately 1.4 million records, the decision tree regressor was utilized as it is both fast and efficient. The hyperparameters were set to default, except for a maximum depth of 12 to avoid overfitting. The model was evaluated using RMSE and R2 score, yielding a high R2 score of 0.998 and a low RMSE of 27 seconds on the testing dataset and cross validation score of 0.998.\n",
        "\n",
        "XGBoost is a distributed gradient boosting library that converts weak learners into strong learners using the gradient boosting framework. Boosting is a sequential process where trees are grown using information from previously grown trees. The model was evaluated using RMSE and R2 score, achieving an R2 score of 0.998 and an RMSE of 20 seconds on the testing dataset.\n"
      ],
      "metadata": {
        "id": "F6v_1wHtG2nS"
      }
    },
    {
      "cell_type": "markdown",
      "source": [
        "# **GitHub Link -**"
      ],
      "metadata": {
        "id": "w6K7xa23Elo4"
      }
    },
    {
      "cell_type": "markdown",
      "source": [
        "Provide your GitHub Link here."
      ],
      "metadata": {
        "id": "h1o69JH3Eqqn"
      }
    },
    {
      "cell_type": "markdown",
      "source": [
        "# **Problem Statement**\n"
      ],
      "metadata": {
        "id": "yQaldy8SH6Dl"
      }
    },
    {
      "cell_type": "markdown",
      "source": [
        "**Build a machine learning model to predict the trip duration of NYC taxi trip.**"
      ],
      "metadata": {
        "id": "DpeJGUA3kjGy"
      }
    },
    {
      "cell_type": "markdown",
      "source": [
        "# **General Guidelines** : -  "
      ],
      "metadata": {
        "id": "mDgbUHAGgjLW"
      }
    },
    {
      "cell_type": "markdown",
      "source": [
        "1.   Well-structured, formatted, and commented code is required. \n",
        "2.   Exception Handling, Production Grade Code & Deployment Ready Code will be a plus. Those students will be awarded some additional credits. \n",
        "     \n",
        "     The additional credits will have advantages over other students during Star Student selection.\n",
        "       \n",
        "             [ Note: - Deployment Ready Code is defined as, the whole .ipynb notebook should be executable in one go\n",
        "                       without a single error logged. ]\n",
        "\n",
        "3.   Each and every logic should have proper comments.\n",
        "4. You may add as many number of charts you want. Make Sure for each and every chart the following format should be answered.\n",
        "        \n",
        "\n",
        "```\n",
        "# Chart visualization code\n",
        "```\n",
        "            \n",
        "\n",
        "*   Why did you pick the specific chart?\n",
        "*   What is/are the insight(s) found from the chart?\n",
        "* Will the gained insights help creating a positive business impact? \n",
        "Are there any insights that lead to negative growth? Justify with specific reason.\n",
        "\n",
        "5. You have to create at least 15 logical & meaningful charts having important insights.\n",
        "\n",
        "\n",
        "[ Hints : - Do the Vizualization in  a structured way while following \"UBM\" Rule. \n",
        "\n",
        "U - Univariate Analysis,\n",
        "\n",
        "B - Bivariate Analysis (Numerical - Categorical, Numerical - Numerical, Categorical - Categorical)\n",
        "\n",
        "M - Multivariate Analysis\n",
        " ]\n",
        "\n",
        "\n",
        "\n",
        "\n",
        "\n",
        "6. You may add more ml algorithms for model creation. Make sure for each and every algorithm, the following format should be answered.\n",
        "\n",
        "\n",
        "*   Explain the ML Model used and it's performance using Evaluation metric Score Chart.\n",
        "\n",
        "\n",
        "*   Cross- Validation & Hyperparameter Tuning\n",
        "\n",
        "*   Have you seen any improvement? Note down the improvement with updates Evaluation metric Score Chart.\n",
        "\n",
        "*   Explain each evaluation metric's indication towards business and the business impact pf the ML model used.\n",
        "\n",
        "\n",
        "\n",
        "\n",
        "\n",
        "\n",
        "\n",
        "\n",
        "\n",
        "\n",
        "\n",
        "\n",
        "\n",
        "\n",
        "\n",
        "\n",
        "\n",
        "\n"
      ],
      "metadata": {
        "id": "ZrxVaUj-hHfC"
      }
    },
    {
      "cell_type": "markdown",
      "source": [
        "# ***Let's Begin !***"
      ],
      "metadata": {
        "id": "O_i_v8NEhb9l"
      }
    },
    {
      "cell_type": "markdown",
      "source": [
        "## ***1. Know Your Data***"
      ],
      "metadata": {
        "id": "HhfV-JJviCcP"
      }
    },
    {
      "cell_type": "markdown",
      "source": [
        "### Import Libraries"
      ],
      "metadata": {
        "id": "Y3lxredqlCYt"
      }
    },
    {
      "cell_type": "code",
      "source": [
        "# Import Libraries\n",
        "import numpy as np\n",
        "import pandas as pd\n",
        "import seaborn as sns\n",
        "import matplotlib.pyplot as plt\n",
        "import datetime as dt\n",
        "from sklearn.linear_model import LinearRegression\n",
        "from sklearn.model_selection import train_test_split\n",
        "from sklearn import metrics\n",
        "import warnings; warnings.simplefilter('ignore')\n",
        "\n"
      ],
      "metadata": {
        "id": "M8Vqi-pPk-HR"
      },
      "execution_count": null,
      "outputs": []
    },
    {
      "cell_type": "markdown",
      "source": [
        "### Dataset Loading"
      ],
      "metadata": {
        "id": "3RnN4peoiCZX"
      }
    },
    {
      "cell_type": "code",
      "source": [
        "# Load Dataset\n",
        "from google.colab import drive\n",
        "drive.mount('/content/drive')"
      ],
      "metadata": {
        "id": "26b6P0kubjlb"
      },
      "execution_count": null,
      "outputs": []
    },
    {
      "cell_type": "code",
      "source": [
        "path=\"/content/drive/MyDrive/Capstone Project/NYC taxi trip duration prediction/\""
      ],
      "metadata": {
        "id": "gybKUE98ZJpB"
      },
      "execution_count": null,
      "outputs": []
    },
    {
      "cell_type": "code",
      "source": [
        "df=pd.read_csv(path + \"NYC Taxi Data.csv\")"
      ],
      "metadata": {
        "id": "TFF_fJQkYe6Q"
      },
      "execution_count": null,
      "outputs": []
    },
    {
      "cell_type": "markdown",
      "source": [
        "### Dataset First View"
      ],
      "metadata": {
        "id": "x71ZqKXriCWQ"
      }
    },
    {
      "cell_type": "code",
      "source": [
        "# Dataset First Look\n",
        "df.head()"
      ],
      "metadata": {
        "id": "LWNFOSvLl09H"
      },
      "execution_count": null,
      "outputs": []
    },
    {
      "cell_type": "markdown",
      "source": [
        "**Feature details:**\n",
        "\n",
        "\n",
        "*  id - a unique identifier for each trip List.\n",
        "*  vendor_id - a code indicating the provider associated with the trip record.\n",
        "*  pickup_datetime - date and time when the meter was engaged.\n",
        "*  dropoff_datetime - date and time when the meter was disengaged.\n",
        "*  passenger_count - the number of passengers in the vehicle (driver entered value).\n",
        "*  pickup_longitude - the longitude where the meter was engaged.\n",
        "*  pickup_latitude - the latitude where the meter was engaged.\n",
        "*  dropoff_longitude - the longitude where the meter was disengaged.\n",
        "*  dropoff_latitude - the latitude where the meter was disengaged.\n",
        "*  store_and_fwd_flag - This flag indicates whether the trip record was held in vehicle memory before sending to the vendor because the vehicle did not have a connection to the server - Y=store and forward; N=not a store and forward trip.\n",
        "\n",
        "**Target detail:**\n",
        "\n",
        "*  trip_duration - duration of the trip in seconds\n",
        "\n"
      ],
      "metadata": {
        "id": "VcfDkuwGZwmW"
      }
    },
    {
      "cell_type": "markdown",
      "source": [
        "### Dataset Rows & Columns count"
      ],
      "metadata": {
        "id": "7hBIi_osiCS2"
      }
    },
    {
      "cell_type": "code",
      "source": [
        "# Dataset Rows & Columns count\n",
        "df.shape"
      ],
      "metadata": {
        "id": "Kllu7SJgmLij"
      },
      "execution_count": null,
      "outputs": []
    },
    {
      "cell_type": "markdown",
      "source": [
        "*There are approx 1.4 million records in our dataset with 10 features and 1 target columns.*"
      ],
      "metadata": {
        "id": "D97iDfrzcNYz"
      }
    },
    {
      "cell_type": "markdown",
      "source": [
        "### Dataset Information"
      ],
      "metadata": {
        "id": "JlHwYmJAmNHm"
      }
    },
    {
      "cell_type": "code",
      "source": [
        "# Dataset Info\n",
        "df.info()"
      ],
      "metadata": {
        "id": "e9hRXRi6meOf"
      },
      "execution_count": null,
      "outputs": []
    },
    {
      "cell_type": "markdown",
      "source": [
        "#### Duplicate Values"
      ],
      "metadata": {
        "id": "35m5QtbWiB9F"
      }
    },
    {
      "cell_type": "code",
      "source": [
        "# Dataset Duplicate Value Count\n",
        "len(df[df.duplicated()])"
      ],
      "metadata": {
        "id": "1sLdpKYkmox0"
      },
      "execution_count": null,
      "outputs": []
    },
    {
      "cell_type": "markdown",
      "source": [
        "*There are no duplicate entries in it.*"
      ],
      "metadata": {
        "id": "ouEb536uedJL"
      }
    },
    {
      "cell_type": "markdown",
      "source": [
        "#### Missing Values/Null Values"
      ],
      "metadata": {
        "id": "PoPl-ycgm1ru"
      }
    },
    {
      "cell_type": "code",
      "source": [
        "# Missing Values/Null Values Count\n",
        "df.isnull().sum()"
      ],
      "metadata": {
        "id": "GgHWkxvamxVg"
      },
      "execution_count": null,
      "outputs": []
    },
    {
      "cell_type": "markdown",
      "source": [
        "There is no NAN/NULL values in our dataset,So we dont have to impute any record."
      ],
      "metadata": {
        "id": "CiK4k4h9f8c2"
      }
    },
    {
      "cell_type": "markdown",
      "source": [
        "## ***2. Understanding Your Variables***"
      ],
      "metadata": {
        "id": "nA9Y7ga8ng1Z"
      }
    },
    {
      "cell_type": "code",
      "source": [
        "# Dataset Columns\n",
        "columns=df.columns\n",
        "columns"
      ],
      "metadata": {
        "id": "j7xfkqrt5Ag5"
      },
      "execution_count": null,
      "outputs": []
    },
    {
      "cell_type": "code",
      "source": [
        "# Dataset Describe\n",
        "df.describe()"
      ],
      "metadata": {
        "id": "DnOaZdaE5Q5t"
      },
      "execution_count": null,
      "outputs": []
    },
    {
      "cell_type": "markdown",
      "source": [
        "### Variables Description "
      ],
      "metadata": {
        "id": "PBTbrJXOngz2"
      }
    },
    {
      "cell_type": "markdown",
      "source": [
        "Passenger count varies from 0 to 9. Trip duration has max value of 3526282 seconds almost 979.5 hours and minimum 1 second. This definetly has outliers present so we'll remove them."
      ],
      "metadata": {
        "id": "aJV4KIxSnxay"
      }
    },
    {
      "cell_type": "markdown",
      "source": [
        "## 3. ***Data Wrangling***"
      ],
      "metadata": {
        "id": "dauF4eBmngu3"
      }
    },
    {
      "cell_type": "markdown",
      "source": [
        "### Data Wrangling Code"
      ],
      "metadata": {
        "id": "bKJF3rekwFvQ"
      }
    },
    {
      "cell_type": "code",
      "source": [
        "# Let us now look at the datatypes of all features.\n",
        "df.dtypes\n"
      ],
      "metadata": {
        "id": "wk-9a2fpoLcV"
      },
      "execution_count": null,
      "outputs": []
    },
    {
      "cell_type": "markdown",
      "source": [
        "We have pickup_datetime, dropoff_datetime of the type 'object'. Convert it into type 'datetime'."
      ],
      "metadata": {
        "id": "NBR4JNrrsxAM"
      }
    },
    {
      "cell_type": "code",
      "source": [
        "# Convert pickup_datetime, dropoff_datetime into \"datetime\"\n",
        "df['pickup_datetime'] = pd.to_datetime(df['pickup_datetime'])\n",
        "df['dropoff_datetime'] = pd.to_datetime(df['dropoff_datetime'])"
      ],
      "metadata": {
        "id": "7DI171D1sRnp"
      },
      "execution_count": null,
      "outputs": []
    },
    {
      "cell_type": "markdown",
      "source": [
        "we will calculate and assine some new features to the dataframe such as distance, weekday,month and pickup_hour which will help us to gain more insights from the data."
      ],
      "metadata": {
        "id": "gFuRSB4ftOXK"
      }
    },
    {
      "cell_type": "code",
      "source": [
        "from geopy.distance import great_circle"
      ],
      "metadata": {
        "id": "kq-R1ud5ugdC"
      },
      "execution_count": null,
      "outputs": []
    },
    {
      "cell_type": "code",
      "source": [
        "def cal_distance(pickup_lat,pickup_long,dropoff_lat,dropoff_long):\n",
        " \n",
        " pickup_point=(pickup_lat,pickup_long)\n",
        " drop_point=(dropoff_lat,dropoff_long)\n",
        " \n",
        " return great_circle(pickup_point,drop_point).km"
      ],
      "metadata": {
        "id": "MUSJpC9UunWO"
      },
      "execution_count": null,
      "outputs": []
    },
    {
      "cell_type": "code",
      "source": [
        "#Calculated distance covered from pickup point to drop point and new features is created\n",
        "\n",
        "df[\"distance\"]=df.apply(lambda x: cal_distance(x[\"pickup_latitude\"],x['pickup_longitude'],x['dropoff_latitude'],x['dropoff_longitude'] ), axis=1)"
      ],
      "metadata": {
        "id": "6M9f_SQPt02q"
      },
      "execution_count": null,
      "outputs": []
    },
    {
      "cell_type": "code",
      "source": [
        "#Calculated speed of the taxi for getting more insights\n",
        "\n",
        "df['speed'] = (df.distance/(df.trip_duration/3600))"
      ],
      "metadata": {
        "id": "cWxGo24Sx2KS"
      },
      "execution_count": null,
      "outputs": []
    },
    {
      "cell_type": "code",
      "source": [
        "#Calculated month from pickup_datetime\n",
        "\n",
        "df['month'] = df.pickup_datetime.dt.month_name()"
      ],
      "metadata": {
        "id": "tJt7O1PAwFwG"
      },
      "execution_count": null,
      "outputs": []
    },
    {
      "cell_type": "code",
      "source": [
        "#Calculated pickup_hour from pickup_datetime\n",
        "\n",
        "df['pickup_hour'] = df.pickup_datetime.dt.hour"
      ],
      "metadata": {
        "id": "XkGxkPzkwc4L"
      },
      "execution_count": null,
      "outputs": []
    },
    {
      "cell_type": "code",
      "source": [
        "#Calculated weekday_num from pickup_datetime\n",
        "\n",
        "df['weekday'] = df.pickup_datetime.dt.day_name()"
      ],
      "metadata": {
        "id": "W2-jv1X2wdW0"
      },
      "execution_count": null,
      "outputs": []
    },
    {
      "cell_type": "code",
      "source": [
        "df.head()"
      ],
      "metadata": {
        "id": "tEPAcQIR64YQ"
      },
      "execution_count": null,
      "outputs": []
    },
    {
      "cell_type": "markdown",
      "source": [
        "### What all manipulations have you done and insights you found?"
      ],
      "metadata": {
        "id": "MSa1f5Uengrz"
      }
    },
    {
      "cell_type": "markdown",
      "source": [
        "Converted the pickup_datetime to datetimestamp.\n",
        "\n",
        "we have created the following features:\n",
        "\n",
        "\n",
        "*   Distance - Total distance covered in that trip.\n",
        "*   Speed - Average speed of the taxi during that trip.\n",
        "*   Month - month January to December\n",
        "*   Pickup_hour - pickup_time in the format of 24 hour.\n",
        "*   Weekdays - which contain the weekdays Monday to Sunday\n",
        "\n",
        "\n"
      ],
      "metadata": {
        "id": "LbyXE7I1olp8"
      }
    },
    {
      "cell_type": "markdown",
      "source": [
        "## ***4. Data Vizualization, Storytelling & Experimenting with charts : Understand the relationships between variables***"
      ],
      "metadata": {
        "id": "GF8Ens_Soomf"
      }
    },
    {
      "cell_type": "markdown",
      "source": [
        "# ***Univariate Analysis***"
      ],
      "metadata": {
        "id": "4SugCKapV8eD"
      }
    },
    {
      "cell_type": "markdown",
      "source": [
        "#### Trip_duration"
      ],
      "metadata": {
        "id": "0wOQAZs5pc--"
      }
    },
    {
      "cell_type": "code",
      "source": [
        "# Dependent variable 'trip_duration'\n",
        "plt.figure(figsize=(7,7))\n",
        "sns.distplot(df['trip_duration'],color=\"b\")"
      ],
      "metadata": {
        "id": "7v_ESjsspbW7"
      },
      "execution_count": null,
      "outputs": []
    },
    {
      "cell_type": "markdown",
      "source": [
        "##### 1. Why did you pick the specific chart?"
      ],
      "metadata": {
        "id": "K5QZ13OEpz2H"
      }
    },
    {
      "cell_type": "markdown",
      "source": [
        "Distplot shows that the trip_duration follows the right skewness, hence let's apply the log10 to transform it to the normal distribution."
      ],
      "metadata": {
        "id": "XESiWehPqBRc"
      }
    },
    {
      "cell_type": "code",
      "source": [
        "plt.figure(figsize=(7,7))\n",
        "sns.distplot(np.log10(df['trip_duration']),color=\"y\")"
      ],
      "metadata": {
        "id": "JHb9HnB4el7F"
      },
      "execution_count": null,
      "outputs": []
    },
    {
      "cell_type": "markdown",
      "source": [
        "By applying log10 transformation the trip_duration follows the normal distribution."
      ],
      "metadata": {
        "id": "XKa3r0rffP2Q"
      }
    },
    {
      "cell_type": "markdown",
      "source": [
        "Let's check for the outliers through boxplot."
      ],
      "metadata": {
        "id": "mZUaELAOfroC"
      }
    },
    {
      "cell_type": "code",
      "source": [
        "plt.figure(figsize = (10,7))\n",
        "sns.boxplot(df.trip_duration)"
      ],
      "metadata": {
        "id": "CLxJyteVfufu"
      },
      "execution_count": null,
      "outputs": []
    },
    {
      "cell_type": "markdown",
      "source": [
        "We can clearly see an outlier and should be removed for the data consistency.\n",
        "\n",
        "Let's analyze more"
      ],
      "metadata": {
        "id": "C_j1G7yiqdRP"
      }
    },
    {
      "cell_type": "code",
      "source": [
        "plt.figure(figsize=[12,8])\n",
        "labels=['less then 1min','within 10 mins','within 30 mins','within hour','within day','within two days','more then two day']\n",
        "df.groupby(pd.cut(df['trip_duration'],bins=[0,60,600,1800,3600,86400,86400*2,10000000],labels=labels))['trip_duration'].count().plot(kind='bar',fontsize=10)\n",
        "plt.title(\"Trip duration with count\")\n",
        "plt.ylabel(\"trip count\")\n",
        "plt.xlabel(\"trip duration\")\n"
      ],
      "metadata": {
        "id": "Qudp-g_ihtfe"
      },
      "execution_count": null,
      "outputs": []
    },
    {
      "cell_type": "code",
      "source": [
        "df['trip_duration'].nlargest(10)"
      ],
      "metadata": {
        "id": "jtb4G-tilFLJ"
      },
      "execution_count": null,
      "outputs": []
    },
    {
      "cell_type": "code",
      "source": [
        "df['trip_duration'].nsmallest(10)\n"
      ],
      "metadata": {
        "id": "Z9zAnc23wVVY"
      },
      "execution_count": null,
      "outputs": []
    },
    {
      "cell_type": "markdown",
      "source": [
        "##### 2. What is/are the insight(s) found from the chart?"
      ],
      "metadata": {
        "id": "lQ7QKXXCp7Bj"
      }
    },
    {
      "cell_type": "markdown",
      "source": [
        "**From above analysis:**\n",
        "\n",
        "*   Major trip durations took within 10min - 30min to complete.\n",
        "* Approx 90% of the trip has been completed within 1 hour.\n",
        "*   Major chunk of trips are completed within an interval of 1 hour with some good numbers of trips duration going above 1 hour."
      ],
      "metadata": {
        "id": "bxhVDkPPw_76"
      }
    },
    {
      "cell_type": "markdown",
      "source": [
        "##### 3. Will the gained insights help creating a positive business impact? \n",
        "Are there any insights that lead to negative growth? Justify with specific reason."
      ],
      "metadata": {
        "id": "448CDAPjqfQr"
      }
    },
    {
      "cell_type": "markdown",
      "source": [
        "**Insights having negative impact:**\n",
        "* There are some durations with as low as 1 to 30 seconds. which points towards trips with 0 km distance.\n",
        "* There are trips ran for more than 20 days, which seems unlikely by the distance travelled.\n",
        "*There are some trips with more than 24 hours of travel duration i.e. 86400 seconds. Which might have occured for the outstation travels."
      ],
      "metadata": {
        "id": "3cspy4FjqxJW"
      }
    },
    {
      "cell_type": "markdown",
      "source": [
        "We should get rid the outliers for the sake of data consistency. (Trip duration greater than 86400 seconds and also trip duration less than 30 seconds)"
      ],
      "metadata": {
        "id": "XSBBHAfl5aWs"
      }
    },
    {
      "cell_type": "code",
      "source": [
        "#Removing outliers trip greater than 86400 sec and trip duration less than 30 sec\n",
        "df = df[df.trip_duration <= 86400]\n",
        "df= df[df.trip_duration >= 30]"
      ],
      "metadata": {
        "id": "MGXVH76X5Z3K"
      },
      "execution_count": null,
      "outputs": []
    },
    {
      "cell_type": "code",
      "source": [
        "df.shape"
      ],
      "metadata": {
        "id": "nkwBTb-g6Po1"
      },
      "execution_count": null,
      "outputs": []
    },
    {
      "cell_type": "markdown",
      "source": [
        "#### Vendor_id"
      ],
      "metadata": {
        "id": "KSlN3yHqYklG"
      }
    },
    {
      "cell_type": "code",
      "source": [
        "# Feature variables \"Vendor_id\"\n",
        "plt.figure(figsize = (7,7))\n",
        "sns.countplot(df.vendor_id)\n",
        "plt.xlabel('Vendor ID')\n",
        "plt.ylabel('Count')"
      ],
      "metadata": {
        "id": "R4YgtaqtYklH"
      },
      "execution_count": null,
      "outputs": []
    },
    {
      "cell_type": "markdown",
      "source": [
        "##### 1. Why did you pick the specific chart?"
      ],
      "metadata": {
        "id": "t6dVpIINYklI"
      }
    },
    {
      "cell_type": "markdown",
      "source": [
        "Count plot bar graph clear shows the number of trips taken by each vendor.\n",
        "\n"
      ],
      "metadata": {
        "id": "5aaW0BYyYklI"
      }
    },
    {
      "cell_type": "markdown",
      "source": [
        "##### 2. What is/are the insight(s) found from the chart?"
      ],
      "metadata": {
        "id": "ijmpgYnKYklI"
      }
    },
    {
      "cell_type": "markdown",
      "source": [
        "There are not much difference between both the vendors but as per the graph vendor 2 has more trips than vendor 1."
      ],
      "metadata": {
        "id": "PSx9atu2YklI"
      }
    },
    {
      "cell_type": "markdown",
      "source": [
        "#### Passenger"
      ],
      "metadata": {
        "id": "EM7whBJCYoAo"
      }
    },
    {
      "cell_type": "code",
      "source": [
        "#Passenger count with different number of passengers\n",
        "plt.figure(figsize = (10,5))\n",
        "sns.countplot(x='passenger_count',data=df)\n",
        "plt.ylabel('Count')\n",
        "plt.xlabel('No.of Passngers')\n",
        "plt.show()"
      ],
      "metadata": {
        "id": "JsffRP0sOAcQ"
      },
      "execution_count": null,
      "outputs": []
    },
    {
      "cell_type": "code",
      "source": [
        "df.passenger_count.value_counts()"
      ],
      "metadata": {
        "id": "wQf4KLyNRyYB"
      },
      "execution_count": null,
      "outputs": []
    },
    {
      "cell_type": "markdown",
      "source": [
        "##### 1. Why did you pick the specific chart?"
      ],
      "metadata": {
        "id": "fge-S5ZAYoAp"
      }
    },
    {
      "cell_type": "markdown",
      "source": [
        "Through count plot we can clear see the passenger count is following right skewed distribution."
      ],
      "metadata": {
        "id": "5dBItgRVYoAp"
      }
    },
    {
      "cell_type": "markdown",
      "source": [
        "##### 2. What is/are the insight(s) found from the chart?"
      ],
      "metadata": {
        "id": "85gYPyotYoAp"
      }
    },
    {
      "cell_type": "markdown",
      "source": [
        "**Feature insights**\n",
        "* There are some trips with 0 passenger count.\n",
        "* Few trips consisted of even 7, 8 or 9 passengers.\n",
        "* Most of trip consist of passenger either 1 or 2."
      ],
      "metadata": {
        "id": "4jstXR6OYoAp"
      }
    },
    {
      "cell_type": "markdown",
      "source": [
        "##### 3. Will the gained insights help creating a positive business impact? \n",
        "Are there any insights that lead to negative growth? Justify with specific reason."
      ],
      "metadata": {
        "id": "RoGjAbkUYoAp"
      }
    },
    {
      "cell_type": "markdown",
      "source": [
        "\n",
        "* As there are some trips with 0 passenger count in which trip is not possible without any passenger.There may be a case where driver forget to enter the passenger count.  Lets analyze the passenger count distribution further to make it consistent for further analysis.\n",
        "* Few trips also consiste of 7,8 and 9 passenger count which is clearly an outlier as in a single car max 6 passenger can seat as per rule.so we have to remove these outliers."
      ],
      "metadata": {
        "id": "zfJ8IqMcYoAp"
      }
    },
    {
      "cell_type": "code",
      "source": [
        "df[\"passenger_count\"].describe()"
      ],
      "metadata": {
        "id": "wFP5IX2STqAC"
      },
      "execution_count": null,
      "outputs": []
    },
    {
      "cell_type": "markdown",
      "source": [
        "Since mean is 1 that means most of the trip has been done with a single passenger.so we will replace the 0 passenger count with 1 passenger count."
      ],
      "metadata": {
        "id": "D0ppzHR-UwTo"
      }
    },
    {
      "cell_type": "code",
      "source": [
        "# passenger count with 0 was relpaced by 1\n",
        "df['passenger_count'] = df['passenger_count'].replace([0], 1)"
      ],
      "metadata": {
        "id": "_4DCZRclVGss"
      },
      "execution_count": null,
      "outputs": []
    },
    {
      "cell_type": "code",
      "source": [
        "# passenger count more than 6 where removed\n",
        "df = df[df.passenger_count <= 6]"
      ],
      "metadata": {
        "id": "li_exDwWNid3"
      },
      "execution_count": null,
      "outputs": []
    },
    {
      "cell_type": "markdown",
      "source": [
        "#### store_and_fwd_flag"
      ],
      "metadata": {
        "id": "4Of9eVA-YrdM"
      }
    },
    {
      "cell_type": "code",
      "source": [
        "# Chart - 4 visualization code\n",
        "plt.figure(figsize = (7,7))\n",
        "sns.countplot(x=\"store_and_fwd_flag\",data=df)\n",
        "plt.ylabel(\"count\")\n",
        "plt.xlabel(\"store_and_fwd_flag\")\n",
        "plt.show()"
      ],
      "metadata": {
        "id": "irlUoxc8YrdO"
      },
      "execution_count": null,
      "outputs": []
    },
    {
      "cell_type": "code",
      "source": [
        "df.store_and_fwd_flag.value_counts()"
      ],
      "metadata": {
        "id": "1PGxhUUN6zUE"
      },
      "execution_count": null,
      "outputs": []
    },
    {
      "cell_type": "code",
      "source": [
        "from matplotlib.colors import Normalize\n",
        "df[\"store_and_fwd_flag\"].value_counts(Normalize)"
      ],
      "metadata": {
        "id": "qLDQoqDsXJGR"
      },
      "execution_count": null,
      "outputs": []
    },
    {
      "cell_type": "markdown",
      "source": [
        "##### 1. Why did you pick the specific chart?"
      ],
      "metadata": {
        "id": "iky9q4vBYrdO"
      }
    },
    {
      "cell_type": "markdown",
      "source": [
        "As it is a categorical columns bar plot can be used to compare how many times  the trip record was held in vehicle memory before sending to the vendor."
      ],
      "metadata": {
        "id": "aJRCwT6DYrdO"
      }
    },
    {
      "cell_type": "markdown",
      "source": [
        "##### 2. What is/are the insight(s) found from the chart?"
      ],
      "metadata": {
        "id": "F6T5p64dYrdO"
      }
    },
    {
      "cell_type": "markdown",
      "source": [
        "**Feature insight:**\n",
        "* Above result shows that less than 1% of the trip details were stored in the vehicle first before sending it to the server."
      ],
      "metadata": {
        "id": "Xx8WAJvtYrdO"
      }
    },
    {
      "cell_type": "markdown",
      "source": [
        "##### 3. Will the gained insights help creating a positive business impact? \n",
        "Are there any insights that lead to negative growth? Justify with specific reason."
      ],
      "metadata": {
        "id": "y-Ehk30pYrdP"
      }
    },
    {
      "cell_type": "markdown",
      "source": [
        "As very less number of times the trip details where stored in a vehicle before sending it to the server the reasone behind this can be:\n",
        "* Due to low signal while the trip was about to complete.\n",
        "* May be mobile battery was down."
      ],
      "metadata": {
        "id": "jLNxxz7MYrdP"
      }
    },
    {
      "cell_type": "markdown",
      "source": [
        "#### Distance"
      ],
      "metadata": {
        "id": "bamQiAODYuh1"
      }
    },
    {
      "cell_type": "code",
      "source": [
        "# Let's now have a look on the distribution of the distance across the different types of rides.\n",
        "plt.figure(figsize = (10,5))\n",
        "sns.boxplot(df.distance)\n",
        "plt.xlabel(\"Distance_Travelled\")\n",
        "plt.show()"
      ],
      "metadata": {
        "id": "TIJwrbroYuh3"
      },
      "execution_count": null,
      "outputs": []
    },
    {
      "cell_type": "code",
      "source": [
        "df.distance.describe()"
      ],
      "metadata": {
        "id": "QOz5pUgXFsqL"
      },
      "execution_count": null,
      "outputs": []
    },
    {
      "cell_type": "code",
      "source": [
        "plt.figure(figsize = (10,7))\n",
        "df.distance.groupby(pd.cut(df.distance, np.arange(0,100,10))).count().plot(kind='bar')\n",
        "plt.xlabel('distance in km')\n",
        "plt.ylabel('trip_count')\n",
        "plt.show()"
      ],
      "metadata": {
        "id": "nhcv141KM9rL"
      },
      "execution_count": null,
      "outputs": []
    },
    {
      "cell_type": "markdown",
      "source": [
        "##### 1. Why did you pick the specific chart?"
      ],
      "metadata": {
        "id": "QHF8YVU7Yuh3"
      }
    },
    {
      "cell_type": "markdown",
      "source": [
        "With the help of boxplot we can clearly see that there are so many outliers present in the distance covered by the trip and the data is right skewed."
      ],
      "metadata": {
        "id": "dcxuIMRPYuh3"
      }
    },
    {
      "cell_type": "markdown",
      "source": [
        "##### 2. What is/are the insight(s) found from the chart?"
      ],
      "metadata": {
        "id": "GwzvFGzlYuh3"
      }
    },
    {
      "cell_type": "markdown",
      "source": [
        "**Feature insights:**\n",
        "* There some trips with over 100 km distance.\n",
        "* Some of the trips distance value is 0 km.\n",
        "* mean distance travelled is approx 3.5 kms."
      ],
      "metadata": {
        "id": "uyqkiB8YYuh3"
      }
    },
    {
      "cell_type": "markdown",
      "source": [
        "##### 3. Will the gained insights help creating a positive business impact? \n",
        "Are there any insights that lead to negative growth? Justify with specific reason."
      ],
      "metadata": {
        "id": "qYpmQ266Yuh3"
      }
    },
    {
      "cell_type": "code",
      "source": [
        "# Number of rows having trip distance value as 0\n",
        "df.distance[df.distance == 0 ].count()"
      ],
      "metadata": {
        "id": "nWrz1EF8Hhja"
      },
      "execution_count": null,
      "outputs": []
    },
    {
      "cell_type": "code",
      "source": [
        "# Number of rows having trip distance value more than 100\n",
        "df.distance[df.distance >= 100 ].count()"
      ],
      "metadata": {
        "id": "VC6seHRKJT-o"
      },
      "execution_count": null,
      "outputs": []
    },
    {
      "cell_type": "markdown",
      "source": [
        "**Negative inshits:**\n",
        "* There are approx 4500 rows showing the trip distance value as 0 some possible reasons can be:\n",
        " * The dropoff location couldn’t be tracked.\n",
        " * The driver deliberately took this ride to complete a target ride number.\n",
        " * The passengers or driver cancelled the trip due to some issue.\n",
        " * Due to some technical issue in software, etc\n",
        "\n",
        "* There are 19 trips with over 100 km distance some possible reason can be:\n",
        " * Those trip where for the outstation trip.\n",
        " * Due to some technical issue in software, etc"
      ],
      "metadata": {
        "id": "oG1ukgtNJF7P"
      }
    },
    {
      "cell_type": "markdown",
      "source": [
        "* There is some serious inconsistencies in the data where drop off location is same as the pickup location. We can't think off imputing the distance values considering a correlation with the duration because the dropoff_location coordinates would not be inline with the distance otherwise. We will look more to it in bivariate analysis with the Trip duration.\n",
        "* The trips which are having distance more than 100 km are clearly outliers so we will remove it."
      ],
      "metadata": {
        "id": "xbk1wPPqMx9D"
      }
    },
    {
      "cell_type": "code",
      "source": [
        "#Removing the rows having distance more than 100 km.\n",
        "df = df[df.distance <= 100]"
      ],
      "metadata": {
        "id": "cVpyQFhLNJOi"
      },
      "execution_count": null,
      "outputs": []
    },
    {
      "cell_type": "markdown",
      "source": [
        "#### speed"
      ],
      "metadata": {
        "id": "OH-pJp9IphqM"
      }
    },
    {
      "cell_type": "code",
      "source": [
        "# Chart - 6 visualization code\n",
        "plt.figure(figsize = (10,5))\n",
        "sns.boxplot(df.speed)\n",
        "plt.show()"
      ],
      "metadata": {
        "id": "kuRf4wtuphqN"
      },
      "execution_count": null,
      "outputs": []
    },
    {
      "cell_type": "code",
      "source": [
        "df.speed.describe()"
      ],
      "metadata": {
        "id": "LMTbNZ_bAqml"
      },
      "execution_count": null,
      "outputs": []
    },
    {
      "cell_type": "code",
      "source": [
        "df.speed.groupby(pd.cut(df.speed, np.arange(0,100,10))).count().plot(kind = 'barh')\n",
        "plt.xlabel('Trip count')\n",
        "plt.ylabel('Speed (Km/H)')\n",
        "plt.show()"
      ],
      "metadata": {
        "id": "-yqE7OdwCXQ_"
      },
      "execution_count": null,
      "outputs": []
    },
    {
      "cell_type": "markdown",
      "source": [
        "##### 1. Why did you pick the specific chart?"
      ],
      "metadata": {
        "id": "bbFf2-_FphqN"
      }
    },
    {
      "cell_type": "markdown",
      "source": [
        "By using boxplot we can easily find out the outlier like speed over 100km/hr are unrelevent to the dataset and through bar plot we can find out that most of the trip where done with the average speed of 10-20km/hr. \n"
      ],
      "metadata": {
        "id": "loh7H2nzphqN"
      }
    },
    {
      "cell_type": "markdown",
      "source": [
        "##### 2. What is/are the insight(s) found from the chart?"
      ],
      "metadata": {
        "id": "_ouA3fa0phqN"
      }
    },
    {
      "cell_type": "markdown",
      "source": [
        "**Feature inshight:**\n",
        "* Many trips were done at a speed of over 100 km/h.\n",
        "* There are some trips with 0km/hr \n",
        "* Most of the trips were done at a average speed range of 10-20 km/H."
      ],
      "metadata": {
        "id": "VECbqPI7phqN"
      }
    },
    {
      "cell_type": "markdown",
      "source": [
        "##### 3. Will the gained insights help creating a positive business impact? \n",
        "Are there any insights that lead to negative growth? Justify with specific reason."
      ],
      "metadata": {
        "id": "Seke61FWphqN"
      }
    },
    {
      "cell_type": "markdown",
      "source": [
        "**Negative inshigts:**\n",
        "* There are some trips with 0km/hr. We will look more to it in bivariate analysis with the Trip duration.\n",
        "* Trips over the speed of 104km/hr will be treated as outliers and will be removed because there are some rules regarding the speed limit in NYC\n",
        " * Maximum speed limit in NYC is as follows:\n",
        "\n",
        "  * 25 mph in urban area i.e. 40 km/h\n",
        "  * 65 mph on controlled state highways i.e. approx 104 km/h"
      ],
      "metadata": {
        "id": "DW4_bGpfphqN"
      }
    },
    {
      "cell_type": "code",
      "source": [
        "#Removing the data having speed more than 104km/hr\n",
        "df = df[df.speed <= 104]"
      ],
      "metadata": {
        "id": "8Guuq6cKGJL7"
      },
      "execution_count": null,
      "outputs": []
    },
    {
      "cell_type": "code",
      "source": [
        "df.shape"
      ],
      "metadata": {
        "id": "HC-2dxnIGe34"
      },
      "execution_count": null,
      "outputs": []
    },
    {
      "cell_type": "markdown",
      "source": [
        "#### Total trips per month"
      ],
      "metadata": {
        "id": "PIIx-8_IphqN"
      }
    },
    {
      "cell_type": "code",
      "source": [
        "df.month.value_counts()"
      ],
      "metadata": {
        "id": "03QiMADHH5u2"
      },
      "execution_count": null,
      "outputs": []
    },
    {
      "cell_type": "code",
      "source": [
        "# Total trip per month (visualization code)\n",
        "plt.figure(figsize = (10,7))\n",
        "sns.countplot(df.month)\n",
        "plt.ylabel('Trip Counts')\n",
        "plt.xlabel('Months')\n",
        "plt.show()"
      ],
      "metadata": {
        "id": "lqAIGUfyphqO"
      },
      "execution_count": null,
      "outputs": []
    },
    {
      "cell_type": "markdown",
      "source": [
        "##### 1. Why did you pick the specific chart?"
      ],
      "metadata": {
        "id": "t27r6nlMphqO"
      }
    },
    {
      "cell_type": "markdown",
      "source": [
        "Through histogram chart we can find out the difference in total trip count taken in each month."
      ],
      "metadata": {
        "id": "iv6ro40sphqO"
      }
    },
    {
      "cell_type": "markdown",
      "source": [
        "##### 2. What is/are the insight(s) found from the chart?"
      ],
      "metadata": {
        "id": "r2jJGEOYphqO"
      }
    },
    {
      "cell_type": "markdown",
      "source": [
        "**feature inshigts:**\n",
        "* There is not much difference in the number of trips across months."
      ],
      "metadata": {
        "id": "Po6ZPi4hphqO"
      }
    },
    {
      "cell_type": "markdown",
      "source": [
        "#### Total trips Per Hour"
      ],
      "metadata": {
        "id": "BZR9WyysphqO"
      }
    },
    {
      "cell_type": "code",
      "source": [
        "# Total trips Per Hour(visualization code)\n",
        "plt.figure(figsize = (10,7))\n",
        "sns.countplot(df.pickup_hour)\n",
        "plt.ylabel('Trip Counts')\n",
        "plt.xlabel('pickup_hour')\n",
        "plt.show()"
      ],
      "metadata": {
        "id": "TdPTWpAVphqO"
      },
      "execution_count": null,
      "outputs": []
    },
    {
      "cell_type": "markdown",
      "source": [
        "##### 1. Why did you pick the specific chart?"
      ],
      "metadata": {
        "id": "jj7wYXLtphqO"
      }
    },
    {
      "cell_type": "markdown",
      "source": [
        "Through histogram chart we can find out the difference in total trip count taken per hour."
      ],
      "metadata": {
        "id": "Ob8u6rCTphqO"
      }
    },
    {
      "cell_type": "markdown",
      "source": [
        "##### 2. What is/are the insight(s) found from the chart?"
      ],
      "metadata": {
        "id": "eZrbJ2SmphqO"
      }
    },
    {
      "cell_type": "markdown",
      "source": [
        "**Feature insights:**\n",
        "* The general trend of taxi pickups which starts increasing from 6AM in the morning and then declines from late evening around 8 PM.\n",
        "* The busiest hours are 6:00 pm to 7:00 pm which makes sense as this is the time for people to return home from work."
      ],
      "metadata": {
        "id": "mZtgC_hjphqO"
      }
    },
    {
      "cell_type": "markdown",
      "source": [
        "#### Total trips per weekday"
      ],
      "metadata": {
        "id": "YJ55k-q6phqO"
      }
    },
    {
      "cell_type": "code",
      "source": [
        "# Total trips per weekday(visualization code)\n",
        "plt.figure(figsize = (10,7))\n",
        "sns.countplot(df.weekday)\n",
        "plt.ylabel('Trip Counts')\n",
        "plt.xlabel('weekday')\n",
        "plt.show()"
      ],
      "metadata": {
        "id": "B2aS4O1ophqO"
      },
      "execution_count": null,
      "outputs": []
    },
    {
      "cell_type": "markdown",
      "source": [
        "##### 1. Why did you pick the specific chart?"
      ],
      "metadata": {
        "id": "gCFgpxoyphqP"
      }
    },
    {
      "cell_type": "markdown",
      "source": [
        "Through histogram chart we can find out the difference in total trip count taken in weekdays."
      ],
      "metadata": {
        "id": "TVxDimi2phqP"
      }
    },
    {
      "cell_type": "markdown",
      "source": [
        "##### 2. What is/are the insight(s) found from the chart?"
      ],
      "metadata": {
        "id": "OVtJsKN_phqQ"
      }
    },
    {
      "cell_type": "markdown",
      "source": [
        "**Feature insight:**\n",
        "* We see Fridays are the busiest days followed by Saturdays. That is probably\n",
        "because it’s weekend.\n",
        "* There is a increase in a trend of taxi pickups starting from Monday till Friday. The trend starts declining from saturday till monday which is normal where some office going people likes to stay at home for rest on the weekends."
      ],
      "metadata": {
        "id": "ngGi97qjphqQ"
      }
    },
    {
      "cell_type": "markdown",
      "source": [
        "# ***Bivariate Analysis***"
      ],
      "metadata": {
        "id": "-Xl327OeYRYq"
      }
    },
    {
      "cell_type": "markdown",
      "source": [
        "#### Trip duration per vendor"
      ],
      "metadata": {
        "id": "U2RJ9gkRphqQ"
      }
    },
    {
      "cell_type": "code",
      "source": [
        "# Trip duration per vendor (visualization code)\n",
        "plt.figure(figsize = (10,8))\n",
        "trip_duration_per_vendor = df.groupby('vendor_id').trip_duration.mean()\n",
        "sns.barplot(trip_duration_per_vendor.index, trip_duration_per_vendor.values)\n",
        "plt.ylabel('Trip Duration (seconds)')\n",
        "plt.xlabel('Vendor')\n",
        "plt.show()"
      ],
      "metadata": {
        "id": "GM7a4YP4phqQ"
      },
      "execution_count": null,
      "outputs": []
    },
    {
      "cell_type": "code",
      "source": [
        "trip_duration_per_vendor"
      ],
      "metadata": {
        "id": "4Qpl2BLVZ8YT"
      },
      "execution_count": null,
      "outputs": []
    },
    {
      "cell_type": "markdown",
      "source": [
        "##### 1. Why did you pick the specific chart?"
      ],
      "metadata": {
        "id": "1M8mcRywphqQ"
      }
    },
    {
      "cell_type": "markdown",
      "source": [
        "Through histogram chart we can find out the difference in trip duration taken by each vendor."
      ],
      "metadata": {
        "id": "8agQvks0phqQ"
      }
    },
    {
      "cell_type": "markdown",
      "source": [
        "##### 2. What is/are the insight(s) found from the chart?"
      ],
      "metadata": {
        "id": "tgIPom80phqQ"
      }
    },
    {
      "cell_type": "markdown",
      "source": [
        "**Feature insight:**\n",
        "* Vendor id 2 takes longer trips as compared to vendor 1."
      ],
      "metadata": {
        "id": "Qp13pnNzphqQ"
      }
    },
    {
      "cell_type": "markdown",
      "source": [
        "#### Trip duration v/s Distance"
      ],
      "metadata": {
        "id": "x-EpHcCOp1ci"
      }
    },
    {
      "cell_type": "code",
      "source": [
        "# Trip duration v/s Distance (visualization code)\n",
        "plt.figure(figsize = (10,5))\n",
        "plt.scatter(x='trip_duration', y='distance',data=df)\n",
        "plt.ylabel('Distance')\n",
        "plt.xlabel('Trip Duration')\n",
        "plt.show()"
      ],
      "metadata": {
        "id": "IY1rFR9DOMmf"
      },
      "execution_count": null,
      "outputs": []
    },
    {
      "cell_type": "markdown",
      "source": [
        "##### 1. Why did you pick the specific chart?"
      ],
      "metadata": {
        "id": "X_VqEhTip1ck"
      }
    },
    {
      "cell_type": "markdown",
      "source": [
        "Through scatter plot we can easily find out the correlation between trip duration and distance coverd in a trip.\n"
      ],
      "metadata": {
        "id": "29ufcR5Oh8G5"
      }
    },
    {
      "cell_type": "markdown",
      "source": [
        "##### 2. What is/are the insight(s) found from the chart?"
      ],
      "metadata": {
        "id": "8zGJKyg5p1ck"
      }
    },
    {
      "cell_type": "markdown",
      "source": [
        "**Feature insight:**\n",
        "* There are lots of trips which covered negligible distance but clocked more than 20,000 seconds in terms of the Duration.\n",
        "* There were few trips which covered huge distance of approx 100 kms within very less time frame but considering the speed limits of NYC highway which is 104km/hr .so it possible to cover such distance within a hour."
      ],
      "metadata": {
        "id": "-vsMzt_np1ck"
      }
    },
    {
      "cell_type": "markdown",
      "source": [
        "##### 3. Will the gained insights help creating a positive business impact? \n",
        "Are there any insights that lead to negative growth? Justify with specific reason."
      ],
      "metadata": {
        "id": "PVzmfK_Ep1ck"
      }
    },
    {
      "cell_type": "markdown",
      "source": [
        "* We should remove those trips which covered 0 km distance but clocked more than 1 minute to make our data more consistent for predictive model. Because if the trip was cancelled after booking, than that should not have taken more than a minute time. This is our assumption."
      ],
      "metadata": {
        "id": "druuKYZpp1ck"
      }
    },
    {
      "cell_type": "code",
      "source": [
        "# Removing those data having distance equal to 0 & trip duration is greater than 60sec\n",
        "df = df[~((df.distance == 0) & (df.trip_duration >= 60))]"
      ],
      "metadata": {
        "id": "s98G8zSvkOAb"
      },
      "execution_count": null,
      "outputs": []
    },
    {
      "cell_type": "markdown",
      "source": [
        "* There are lots of trips which covered less than but clocked more than 3600 seconds(1hour) in terms of the Duration.It is rarely occurs that customer keep sitting in the taxi for more than an hour and didn't cover 1km."
      ],
      "metadata": {
        "id": "WLAoNfjYlep0"
      }
    },
    {
      "cell_type": "code",
      "source": [
        "#Removing those data having distance less than 1 & trip duration is greater than 3600sec\n",
        "df = df[~((df['distance'] <= 1) & (df['trip_duration'] >= 3600))]"
      ],
      "metadata": {
        "id": "7IAn4YFNofjk"
      },
      "execution_count": null,
      "outputs": []
    },
    {
      "cell_type": "markdown",
      "source": [
        "* There are some trips which took more than 3600 sec(1hr) to just cover 1 or 2 km. which very rarely to happen due to any traffic is such a developed city."
      ],
      "metadata": {
        "id": "J4tbk4-2o-Vk"
      }
    },
    {
      "cell_type": "code",
      "source": [
        "#Removing those data having the speed of less than or equal to 2km/hr.\n",
        "df = df[~(df['speed'] <= 2)]"
      ],
      "metadata": {
        "id": "ClpvJNl2pv_o"
      },
      "execution_count": null,
      "outputs": []
    },
    {
      "cell_type": "markdown",
      "source": [
        "Let's visualize it again"
      ],
      "metadata": {
        "id": "ns7A_yZDqLrE"
      }
    },
    {
      "cell_type": "code",
      "source": [
        "plt.figure(figsize = (10,5))\n",
        "plt.scatter(x='trip_duration', y='distance',data=df)\n",
        "plt.ylabel('Distance')\n",
        "plt.xlabel('Trip Duration')\n",
        "plt.show()"
      ],
      "metadata": {
        "id": "EYe5wJloqLED"
      },
      "execution_count": null,
      "outputs": []
    },
    {
      "cell_type": "markdown",
      "source": [
        "* There is just one point lying above the 40000 trip duration and basically that's an outlier. "
      ],
      "metadata": {
        "id": "LD05U1_Hqivc"
      }
    },
    {
      "cell_type": "code",
      "source": [
        "# Removed the trip duration above 40000\n",
        "df = df[~(df.trip_duration >= 40000)]"
      ],
      "metadata": {
        "id": "qXgIHuZkqiC0"
      },
      "execution_count": null,
      "outputs": []
    },
    {
      "cell_type": "code",
      "source": [
        "# visualize it again\n",
        "plt.figure(figsize = (10,5))\n",
        "plt.scatter(x='trip_duration', y='distance',data=df)\n",
        "plt.ylabel('Distance')\n",
        "plt.xlabel('Trip Duration')\n",
        "plt.show()"
      ],
      "metadata": {
        "id": "aXP3jkoEq0CR"
      },
      "execution_count": null,
      "outputs": []
    },
    {
      "cell_type": "markdown",
      "source": [
        "#### Trip duration vs speed"
      ],
      "metadata": {
        "id": "n3dbpmDWp1ck"
      }
    },
    {
      "cell_type": "code",
      "source": [
        "#Trip duration vs speed (visualization code)\n",
        "\n",
        "plt.figure(figsize = (10,5))\n",
        "plt.scatter(x='trip_duration', y='speed',data=df)\n",
        "plt.ylabel('speed')\n",
        "plt.xlabel('Trip Duration')\n",
        "plt.show()\n"
      ],
      "metadata": {
        "id": "bwevp1tKp1ck"
      },
      "execution_count": null,
      "outputs": []
    },
    {
      "cell_type": "markdown",
      "source": [
        "##### 1. Why did you pick the specific chart?"
      ],
      "metadata": {
        "id": "ylSl6qgtp1ck"
      }
    },
    {
      "cell_type": "markdown",
      "source": [
        "Through scatter plot we can easily find out the correlation between trip duration and average speed in a trip."
      ],
      "metadata": {
        "id": "m2xqNkiQp1ck"
      }
    },
    {
      "cell_type": "markdown",
      "source": [
        "##### 2. What is/are the insight(s) found from the chart?"
      ],
      "metadata": {
        "id": "ZWILFDl5p1ck"
      }
    },
    {
      "cell_type": "markdown",
      "source": [
        "* There are some trips with the speed of above 80km/hr in very less trip duration.It is because of less distance covered in high speed.\n",
        "* Decrease in the speed trip duration also increases.\n",
        "* There are some trips with the very low average speed and time duration is very high it's like an outlier for the data."
      ],
      "metadata": {
        "id": "x-lUsV2mp1ck"
      }
    },
    {
      "cell_type": "markdown",
      "source": [
        "##### 3. Will the gained insights help creating a positive business impact? \n",
        "Are there any insights that lead to negative growth? Justify with specific reason."
      ],
      "metadata": {
        "id": "M7G43BXep1ck"
      }
    },
    {
      "cell_type": "markdown",
      "source": [
        "* There are some data inconsistence due to outlier with  very low average speed and time duration is very high to make it more data consistance we will remove the outlier."
      ],
      "metadata": {
        "id": "5wwDJXsLp1cl"
      }
    },
    {
      "cell_type": "code",
      "source": [
        "#Removing the data having trip duration higher than 15000\n",
        "df=df[~(df['trip_duration']>=15000)]"
      ],
      "metadata": {
        "id": "nGMgdjZQtqxt"
      },
      "execution_count": null,
      "outputs": []
    },
    {
      "cell_type": "markdown",
      "source": [
        "Let's vizualize it again"
      ],
      "metadata": {
        "id": "a0SVHC5E3gh7"
      }
    },
    {
      "cell_type": "code",
      "source": [
        "plt.figure(figsize = (10,5))\n",
        "plt.scatter(x='trip_duration', y='speed',data=df)\n",
        "plt.ylabel('speed')\n",
        "plt.xlabel('Trip Duration')\n",
        "plt.show()\n"
      ],
      "metadata": {
        "id": "VB1MHfSzuGN2"
      },
      "execution_count": null,
      "outputs": []
    },
    {
      "cell_type": "markdown",
      "source": [
        "#### Trip duration per month"
      ],
      "metadata": {
        "id": "Ag9LCva-p1cl"
      }
    },
    {
      "cell_type": "code",
      "source": [
        "# Trip duration per month (visualization code)\n",
        "months=[\"January\",\"February\",\"March\",\"April\",\"May\",\"June\",\"July\"]\n",
        "plt.figure(figsize = (10,7))\n",
        "sns.pointplot(x='month',y='trip_duration', data=df,order=months)\n",
        "plt.ylabel('Duration (seconds)')\n",
        "plt.xlabel('Month of Trip ')\n",
        "\n",
        "plt.show()"
      ],
      "metadata": {
        "id": "EUfxeq9-p1cl"
      },
      "execution_count": null,
      "outputs": []
    },
    {
      "cell_type": "markdown",
      "source": [
        "##### 1. Why did you pick the specific chart?"
      ],
      "metadata": {
        "id": "E6MkPsBcp1cl"
      }
    },
    {
      "cell_type": "markdown",
      "source": [
        "Through point plot we can find out the increase in trip duration over the different months."
      ],
      "metadata": {
        "id": "V22bRsFWp1cl"
      }
    },
    {
      "cell_type": "markdown",
      "source": [
        "##### 2. What is/are the insight(s) found from the chart?"
      ],
      "metadata": {
        "id": "2cELzS2fp1cl"
      }
    },
    {
      "cell_type": "markdown",
      "source": [
        "**Feature insights:**\n",
        "* It is lowest during february when winters starts declining.\n",
        "* From February, we can see trip duration rising every month.\n",
        "* There might be some seasonal parameters like wind/rain which can be a factor of this gradual increase in trip duration over a period.\n",
        "* In June trip duration are high may be due to the  starting of summer season.\n"
      ],
      "metadata": {
        "id": "ozQPc2_Ip1cl"
      }
    },
    {
      "cell_type": "markdown",
      "source": [
        "##### 3. Will the gained insights help creating a positive business impact? \n",
        "Are there any insights that lead to negative growth? Justify with specific reason."
      ],
      "metadata": {
        "id": "3MPXvC8up1cl"
      }
    },
    {
      "cell_type": "markdown",
      "source": [
        "**Positive insights:**\n",
        "* we get to know that in which months people like to travel more duration of time and for may longer distance."
      ],
      "metadata": {
        "id": "GL8l1tdLp1cl"
      }
    },
    {
      "cell_type": "markdown",
      "source": [
        "#### Trip duration per hour"
      ],
      "metadata": {
        "id": "syl5hEYdXmta"
      }
    },
    {
      "cell_type": "code",
      "source": [
        "# Trip duration per month (visualization code)\n",
        "plt.figure(figsize = (12,7))\n",
        "sns.pointplot(x='pickup_hour',y='trip_duration', data=df)\n",
        "plt.ylabel('trip Duration (seconds)')\n",
        "plt.xlabel('pickup_hour ')\n",
        "plt.show()"
      ],
      "metadata": {
        "id": "ReIsv2DAXsi-"
      },
      "execution_count": null,
      "outputs": []
    },
    {
      "cell_type": "markdown",
      "source": [
        "##### 1. Why did you pick the specific chart?"
      ],
      "metadata": {
        "id": "UV0SzAkaZNRQ"
      }
    },
    {
      "cell_type": "markdown",
      "source": [
        "Through point plot we can find out the increase in trip duration over the different pickup hours."
      ],
      "metadata": {
        "id": "DVPuT8LYZNRQ"
      }
    },
    {
      "cell_type": "markdown",
      "source": [
        "##### 2. What is/are the insight(s) found from the chart?"
      ],
      "metadata": {
        "id": "YPEH6qLeZNRQ"
      }
    },
    {
      "cell_type": "markdown",
      "source": [
        "**Feature insight:**\n",
        "* We see the trip duration is the maximum around 3 pm which may be because of traffic on the roads.\n",
        "* Trip duration is higher during 8am to 6pm as traffic is high due to office hour. \n",
        "* Trip duration is the lowest around 6 am as streets may not be busy."
      ],
      "metadata": {
        "id": "bfSqtnDqZNRR"
      }
    },
    {
      "cell_type": "markdown",
      "source": [
        "##### 3. Will the gained insights help creating a positive business impact? \n",
        "Are there any insights that lead to negative growth? Justify with specific reason."
      ],
      "metadata": {
        "id": "0nI0sMOzBq5i"
      }
    },
    {
      "cell_type": "markdown",
      "source": [
        "* we will get to know if people book there taxi and how much time it will take to reach their dropoff location than usual timing."
      ],
      "metadata": {
        "id": "DFCyzP0-Bt6I"
      }
    },
    {
      "cell_type": "markdown",
      "source": [
        "#### Trip duration per weekdays"
      ],
      "metadata": {
        "id": "ZgpB4HwHJ0zD"
      }
    },
    {
      "cell_type": "code",
      "source": [
        "# Trip duration per weekdays (visualization code)\n",
        "weekdays=[\"Monday\",\"Tuesday\",\"Wednesday\",\"Thursday\",\"Friday\",\"Saturday\",\"Sunday\"]\n",
        "plt.figure(figsize = (12,7))\n",
        "sns.pointplot(x='weekday',y='trip_duration', data=df,order=weekdays)\n",
        "plt.ylabel('trip Duration (seconds)')\n",
        "plt.xlabel('weekday')\n",
        "plt.show()"
      ],
      "metadata": {
        "id": "WiSX76QbKCui"
      },
      "execution_count": null,
      "outputs": []
    },
    {
      "cell_type": "markdown",
      "source": [
        "##### 1. Why did you pick the specific chart?"
      ],
      "metadata": {
        "id": "we1APoKfM088"
      }
    },
    {
      "cell_type": "markdown",
      "source": [
        "Through point plot we can find out the increase in trip duration over the different weekdays."
      ],
      "metadata": {
        "id": "oyZp7ZyaM_ni"
      }
    },
    {
      "cell_type": "markdown",
      "source": [
        "##### 2. What is/are the insight(s) found from the chart?"
      ],
      "metadata": {
        "id": "bQtUcY9WNF1c"
      }
    },
    {
      "cell_type": "markdown",
      "source": [
        "**Feature insights:**\n",
        "* Trip duration is compatible high on thursday as compered other.\n",
        "* Trip duration is less on saturday & sunday due to weekends."
      ],
      "metadata": {
        "id": "q8WoOSu9NG6e"
      }
    },
    {
      "cell_type": "markdown",
      "source": [
        "##### 3. Will the gained insights help creating a positive business impact? \n",
        "Are there any insights that lead to negative growth? Justify with specific reason."
      ],
      "metadata": {
        "id": "66FWt67mNHpL"
      }
    },
    {
      "cell_type": "markdown",
      "source": [
        "It is easy to get to know which days we are going to get more traffics compered to other weekdays because higher the trip duration traffic is also high."
      ],
      "metadata": {
        "id": "i-IqDL8UNNia"
      }
    },
    {
      "cell_type": "markdown",
      "source": [
        "#### Chart - 14 - Correlation Heatmap"
      ],
      "metadata": {
        "id": "NC_X3p0fY2L0"
      }
    },
    {
      "cell_type": "code",
      "source": [
        "# Correlation Heatmap visualization code\n",
        "plt.figure(figsize=(15,8))\n",
        "correlation = df.corr()\n",
        "sns.heatmap(abs(correlation), annot=True, cmap='coolwarm')"
      ],
      "metadata": {
        "id": "xyC9zolEZNRQ"
      },
      "execution_count": null,
      "outputs": []
    },
    {
      "cell_type": "markdown",
      "source": [
        "##### 1. Why did you pick the specific chart?"
      ],
      "metadata": {
        "id": "7XJydbB8YjYh"
      }
    },
    {
      "cell_type": "markdown",
      "source": [
        "Through correlation heatmap we can see the correlation among different features as well as with dependent variable."
      ],
      "metadata": {
        "id": "Qi88UrloYxGh"
      }
    },
    {
      "cell_type": "markdown",
      "source": [
        "##### 2. What is/are the insight(s) found from the chart?"
      ],
      "metadata": {
        "id": "Nmkb0KDtYxzB"
      }
    },
    {
      "cell_type": "markdown",
      "source": [
        "**Insight**\n",
        "* Distance is highly correlated with the dependent variable(trip duration).\n",
        "* There are some features having multicollinearity.let's check through VIF method is it highly correlated or not."
      ],
      "metadata": {
        "id": "cldOtr7yY3XP"
      }
    },
    {
      "cell_type": "markdown",
      "source": [
        "Let's check through VIF method."
      ],
      "metadata": {
        "id": "VeEEFuvUeHm7"
      }
    },
    {
      "cell_type": "code",
      "source": [
        "# calculate VIF\n",
        "from statsmodels.stats.outliers_influence import variance_inflation_factor\n",
        "def calc_vif(X):\n",
        "\n",
        "    # Calculating VIF\n",
        "    vif = pd.DataFrame()\n",
        "    vif[\"variables\"] = X.columns\n",
        "    vif[\"VIF\"] = [variance_inflation_factor(X.values, i) for i in range(X.shape[1])]\n",
        "\n",
        "    return(vif)"
      ],
      "metadata": {
        "id": "_f_cwjyucFIi"
      },
      "execution_count": null,
      "outputs": []
    },
    {
      "cell_type": "code",
      "source": [
        "calc_vif(df[[i for i in df.describe().columns]])"
      ],
      "metadata": {
        "id": "05HMQWtgcSOw"
      },
      "execution_count": null,
      "outputs": []
    },
    {
      "cell_type": "markdown",
      "source": [
        "* VIF values are less than or equal to 5. so there is no high correlation among features."
      ],
      "metadata": {
        "id": "W2TrFVPWeV3f"
      }
    },
    {
      "cell_type": "markdown",
      "source": [
        "# ***6. Feature Engineering & Data Pre-processing***"
      ],
      "metadata": {
        "id": "yLjJCtPM0KBk"
      }
    },
    {
      "cell_type": "markdown",
      "source": [
        "### 1. Handling Missing Values"
      ],
      "metadata": {
        "id": "xiyOF9F70UgQ"
      }
    },
    {
      "cell_type": "code",
      "source": [
        "# Handling Missing Values & Missing Value Imputation\n",
        "df.isnull().sum()"
      ],
      "metadata": {
        "id": "iRsAHk1K0fpS"
      },
      "execution_count": null,
      "outputs": []
    },
    {
      "cell_type": "markdown",
      "source": [
        "#### What all missing value imputation techniques have you used and why did you use those techniques?"
      ],
      "metadata": {
        "id": "7wuGOrhz0itI"
      }
    },
    {
      "cell_type": "markdown",
      "source": [
        "There is no null values in the dataset."
      ],
      "metadata": {
        "id": "1ixusLtI0pqI"
      }
    },
    {
      "cell_type": "markdown",
      "source": [
        "### 2. Categorical Encoding"
      ],
      "metadata": {
        "id": "89xtkJwZ18nB"
      }
    },
    {
      "cell_type": "code",
      "source": [
        "df.shape"
      ],
      "metadata": {
        "id": "3EgEhGHzyJYH"
      },
      "execution_count": null,
      "outputs": []
    },
    {
      "cell_type": "code",
      "source": [
        "# Encode your categorical columns\n",
        "#label encoding\n",
        "encoders_nums = {\"store_and_fwd_flag\":{\"Y\":1,\"N\":0}}\n",
        "\n",
        "df = df.replace(encoders_nums)\n",
        "# one hot encoding\n",
        "df=pd.get_dummies(df,columns=[\"month\",\"weekday\"],drop_first=True)"
      ],
      "metadata": {
        "id": "21JmIYMG2hEo"
      },
      "execution_count": null,
      "outputs": []
    },
    {
      "cell_type": "code",
      "source": [
        "df.shape"
      ],
      "metadata": {
        "id": "wU911FCqoysV"
      },
      "execution_count": null,
      "outputs": []
    },
    {
      "cell_type": "markdown",
      "source": [
        "#### What all categorical encoding techniques have you used & why did you use those techniques?"
      ],
      "metadata": {
        "id": "67NQN5KX2AMe"
      }
    },
    {
      "cell_type": "markdown",
      "source": [
        "Encoding categorical columns:\n",
        "* In store_and_fwd_flag feature there are only 2 class Y & N.So we have used the label encoding as Y:1 & N:0.\n",
        "* In month & weekday feature containe more than 2 categories.So we have used the one hot encoding.\n",
        "* Earlier df was (1439355, 16) and now after encoding categorical columns the shape of df is (1439355, 25).In which columns are increased by 9."
      ],
      "metadata": {
        "id": "UDaue5h32n_G"
      }
    },
    {
      "cell_type": "markdown",
      "source": [
        " ### 3. Data Splitting"
      ],
      "metadata": {
        "id": "BhH2vgX9EjGr"
      }
    },
    {
      "cell_type": "code",
      "source": [
        "# Split your data to train and test. Choose Splitting ratio wisely.\n",
        "from sklearn.model_selection import train_test_split \n",
        "x = df.drop([('trip_duration'),('id'),('pickup_datetime'),('dropoff_datetime')], axis=1)\n",
        "y = df.iloc[:,10]\n",
        "x_train, x_test, y_train, y_test = train_test_split( x,y , test_size = 0.2, random_state = 0) \n",
        "print(x_train.shape)\n",
        "print(x_test.shape)"
      ],
      "metadata": {
        "id": "0CTyd2UwEyNM"
      },
      "execution_count": null,
      "outputs": []
    },
    {
      "cell_type": "markdown",
      "source": [
        "##### What data splitting ratio have you used and why? "
      ],
      "metadata": {
        "id": "qjKvONjwE8ra"
      }
    },
    {
      "cell_type": "markdown",
      "source": [
        "* Splitting ratio of 80/20 is used for the evaluation and learing of model.\n",
        "* 80% for training & 20% for testing."
      ],
      "metadata": {
        "id": "Y2lJ8cobFDb_"
      }
    },
    {
      "cell_type": "markdown",
      "source": [
        "### 4. Feature Manipulation & Selection"
      ],
      "metadata": {
        "id": "-oLEiFgy-5Pf"
      }
    },
    {
      "cell_type": "markdown",
      "source": [
        "#### 2. Feature Selection"
      ],
      "metadata": {
        "id": "2DejudWSA-a0"
      }
    },
    {
      "cell_type": "code",
      "source": [
        " # Running Recursive feature elimination for selecting important features\n",
        "from sklearn.feature_selection import RFE\n",
        "from sklearn.linear_model import LinearRegression\n",
        "\n",
        "lm =  LinearRegression()\n",
        "rfe = RFE(lm)\n",
        "rfe= rfe.fit(x_train, y_train)\n"
      ],
      "metadata": {
        "id": "8bpPbKE2-0_L"
      },
      "execution_count": null,
      "outputs": []
    },
    {
      "cell_type": "code",
      "source": [
        "# feature ranking & selected as true\n",
        "print(rfe.support_)\n",
        "print(rfe.ranking_)\n"
      ],
      "metadata": {
        "id": "Ugk6dydy9iGz"
      },
      "execution_count": null,
      "outputs": []
    },
    {
      "cell_type": "code",
      "source": [
        "# selecting columns \n",
        "col= x_train.columns[rfe.support_]"
      ],
      "metadata": {
        "id": "KaBtFbSVbzUX"
      },
      "execution_count": null,
      "outputs": []
    },
    {
      "cell_type": "code",
      "source": [
        "# updating selected columns in xtrain & xtest\n",
        "x_train= x_train[col]\n",
        "x_test = x_test[col]"
      ],
      "metadata": {
        "id": "cLnnziAfb6Wu"
      },
      "execution_count": null,
      "outputs": []
    },
    {
      "cell_type": "markdown",
      "source": [
        "##### What all feature selection methods have you used  and why?"
      ],
      "metadata": {
        "id": "pEMng2IbBLp7"
      }
    },
    {
      "cell_type": "markdown",
      "source": [
        "* For feature selection we have used the recursive feature selection in which backward elimination of features is done based on their coefficient value of each feature by running different combinations."
      ],
      "metadata": {
        "id": "rb2Lh6Z8BgGs"
      }
    },
    {
      "cell_type": "markdown",
      "source": [
        "##### Which all features you found important and why?"
      ],
      "metadata": {
        "id": "rAdphbQ9Bhjc"
      }
    },
    {
      "cell_type": "code",
      "source": [
        "# Important features\n",
        "x_train.columns"
      ],
      "metadata": {
        "id": "hfIwU4OD4GF8"
      },
      "execution_count": null,
      "outputs": []
    },
    {
      "cell_type": "markdown",
      "source": [
        "* ['pickup_longitude', 'pickup_latitude', 'dropoff_longitude','dropoff_latitude', 'distance', 'speed', 'month_June', 'month_May','weekday_Monday', 'weekday_Sunday']\n",
        "* These features were having the higher coefficient values as compared to other features. As these features were relatively highly explaining the relationship with the dependent variable."
      ],
      "metadata": {
        "id": "fGgaEstsBnaf"
      }
    },
    {
      "cell_type": "markdown",
      "source": [
        "### 5. Data Scaling"
      ],
      "metadata": {
        "id": "rMDnDkt2B6du"
      }
    },
    {
      "cell_type": "code",
      "source": [
        "# Data scaling\n",
        "from sklearn.preprocessing import StandardScaler\n",
        "\n",
        "sc = StandardScaler()\n",
        "x_train = sc.fit_transform(x_train)\n",
        "x_test = sc.transform(x_test)\n"
      ],
      "metadata": {
        "id": "dL9LWpySC6x_"
      },
      "execution_count": null,
      "outputs": []
    },
    {
      "cell_type": "markdown",
      "source": [
        "##### Which method have you used to scale you data and why?"
      ],
      "metadata": {
        "id": "yiiVWRdJDDil"
      }
    },
    {
      "cell_type": "markdown",
      "source": [
        "* We have used the standard scalar for data scaling as mean equals to zero and the variation of 1. As we were having some features relatively high value compared to other features."
      ],
      "metadata": {
        "id": "wPP8NPEL5aAL"
      }
    },
    {
      "cell_type": "markdown",
      "source": [
        "### 6. Data Transformation"
      ],
      "metadata": {
        "id": "TNVZ9zx19K6k"
      }
    },
    {
      "cell_type": "code",
      "source": [
        "# used powertransform to distribute the data normally\n",
        "from sklearn.preprocessing import PowerTransformer\n",
        "pt = PowerTransformer()\n",
        "\n",
        "x_train_transform=pt.fit_transform(x_train)"
      ],
      "metadata": {
        "id": "t-1Oj0H-NwG8"
      },
      "execution_count": null,
      "outputs": []
    },
    {
      "cell_type": "code",
      "source": [
        "# Fit the LinearRegression on the transformed data\n",
        "from sklearn.linear_model import LinearRegression\n",
        "from sklearn.metrics import mean_squared_error,r2_score\n",
        "\n",
        "lr= LinearRegression()\n",
        "\n",
        "# Fit the Algorithm\n",
        "lr.fit(x_train_transform,y_train)\n",
        "\n",
        "# Predict on the model\n",
        "y_test_pred = lr.predict(x_test)\n",
        "\n",
        "print(\"Testing R2: \",r2_score(y_test,y_test_pred))"
      ],
      "metadata": {
        "id": "FQrwPWhRPK7C"
      },
      "execution_count": null,
      "outputs": []
    },
    {
      "cell_type": "markdown",
      "source": [
        "#### Do you think that your data needs to be transformed? If yes, which transformation have you used. Explain Why?"
      ],
      "metadata": {
        "id": "nqoHp30x9hH9"
      }
    },
    {
      "cell_type": "markdown",
      "source": [
        "* As our input features were not normally distributed. so, we have used the power transform to normally distribute the data and train the data by using linear regression model and check the R2 score on the test data which was 0.75.To check the performance on transformed data."
      ],
      "metadata": {
        "id": "mInVgwB2iDo6"
      }
    },
    {
      "cell_type": "markdown",
      "source": [
        "# ***7. ML Model Implementation***"
      ],
      "metadata": {
        "id": "VfCC591jGiD4"
      }
    },
    {
      "cell_type": "markdown",
      "source": [
        "### ML Model - 1"
      ],
      "metadata": {
        "id": "OB4l2ZhMeS1U"
      }
    },
    {
      "cell_type": "code",
      "source": [
        "# LinearRegression Model - 1 Implementation\n",
        "from sklearn.linear_model import LinearRegression\n",
        "from sklearn.metrics import mean_squared_error,r2_score\n",
        "\n",
        "lr= LinearRegression()\n",
        "\n",
        "# Fit the Algorithm\n",
        "lr.fit(x_train,y_train)\n",
        "\n",
        "# Predict on the model\n",
        "y_test_pred = lr.predict(x_test)\n",
        "y_train_pred = lr.predict(x_train)\n",
        "\n",
        "print(\"Training RMSE: \",(np.sqrt(mean_squared_error(y_train,y_train_pred))))\n",
        "print(\"Testing RMSE: \",(np.sqrt(mean_squared_error(y_test,y_test_pred))))\n",
        "\n",
        "print(\"Training R2: \",r2_score(y_train,y_train_pred))\n",
        "print(\"Testing R2: \",r2_score(y_test,y_test_pred))\n",
        "\n",
        "print(\"Testing Adjusted R2 : \", (1-(1-r2_score((y_test), (y_test_pred)))*((x_train.shape[0]-1)/(x_train.shape[0]-x_train.shape[1]-1))))\n",
        "\n",
        "print(lr.coef_)\n",
        "print(lr.intercept_)"
      ],
      "metadata": {
        "id": "7ebyywQieS1U"
      },
      "execution_count": null,
      "outputs": []
    },
    {
      "cell_type": "markdown",
      "source": [
        "#### 1. Explain the ML Model used and it's performance using Evaluation metric Score Chart."
      ],
      "metadata": {
        "id": "ArJBuiUVfxKd"
      }
    },
    {
      "cell_type": "markdown",
      "source": [
        "* As this is regression problem, we have used the linear regression model for training & testing of our data set.\n",
        "* For the evaluation of the model, we have calculated the RMSE, R2 score and adjusted r2 score.\n",
        "* By evaluation we get the R2 score of 0.80 and RMSE 296 seconds on testing dataset."
      ],
      "metadata": {
        "id": "njryhYyRQ3sl"
      }
    },
    {
      "cell_type": "code",
      "source": [
        "# Visualizing evaluation Metric Score chart\n",
        "plt.figure(figsize=(12,6))\n",
        "plt.plot(np.array(y_test_pred))\n",
        "plt.plot(np.array(y_test))\n",
        "plt.legend([\"Predicted\",\"Actual\"])\n",
        "plt.show()"
      ],
      "metadata": {
        "id": "rqD5ZohzfxKe"
      },
      "execution_count": null,
      "outputs": []
    },
    {
      "cell_type": "markdown",
      "source": [
        "#### 2. Cross- Validation & Hyperparameter Tuning"
      ],
      "metadata": {
        "id": "4qY1EAkEfxKe"
      }
    },
    {
      "cell_type": "code",
      "source": [
        "# Cross- Validation score with model(linearReggresion)\n",
        "from sklearn.model_selection import cross_val_score\n",
        "score = (np.mean(cross_val_score(lr,x_train,y_train,cv=10)))\n",
        "print(score)"
      ],
      "metadata": {
        "id": "fbMarB68RVA8"
      },
      "execution_count": null,
      "outputs": []
    },
    {
      "cell_type": "code",
      "source": [
        "# ML Model - 1 Implementation with hyperparameter optimization techniques (i.e., GridSearch CV, RandomSearch CV, Bayesian Optimization etc.)\n",
        "\n",
        "from sklearn.model_selection import RandomizedSearchCV\n",
        "from sklearn.linear_model import Lasso\n",
        "\n",
        "params = {\"alpha\": np.arange(0.01,10,0.01)}\n",
        "model=Lasso()\n",
        "model1 = RandomizedSearchCV(model,params,scoring=\"r2\", cv=5)\n",
        "\n",
        "# Fit the Algorithm\n",
        "\n",
        "model1.fit(x_train,y_train)\n",
        "\n",
        "# Predict on the model\n",
        "\n",
        "y_pred_model1= model1.predict(x_test)"
      ],
      "metadata": {
        "id": "Dy61ujd6fxKe"
      },
      "execution_count": null,
      "outputs": []
    },
    {
      "cell_type": "code",
      "source": [
        "print('The best fit alpha value is :', model1.best_params_)\n",
        "print(\"Testing R2 score: \",r2_score(y_test,y_pred_model1))"
      ],
      "metadata": {
        "id": "KsB1_0wshPMT"
      },
      "execution_count": null,
      "outputs": []
    },
    {
      "cell_type": "code",
      "source": [
        "# ML Model - 1 Implementation with hyperparameter optimization techniques (i.e., GridSearch CV, RandomSearch CV, Bayesian Optimization etc.)\n",
        "\n",
        "from sklearn.model_selection import RandomizedSearchCV\n",
        "from sklearn.linear_model import Ridge\n",
        "\n",
        "params = {\"alpha\": np.arange(0.01,10,0.01)}\n",
        "ridge=Ridge()\n",
        "model2 = RandomizedSearchCV(ridge,params,scoring=\"r2\", cv=5)\n",
        "\n",
        "# Fit the Algorithm\n",
        "\n",
        "model2.fit(x_train,y_train)\n",
        "\n",
        "# Predict on the model\n",
        "\n",
        "y_pred_model2= model2.predict(x_test)"
      ],
      "metadata": {
        "id": "I8JtwhADrXnQ"
      },
      "execution_count": null,
      "outputs": []
    },
    {
      "cell_type": "code",
      "source": [
        "print('The best fit alpha value is :', model2.best_params_)\n",
        "print(\"Testing R2 score: \",r2_score(y_test,y_pred_model2))"
      ],
      "metadata": {
        "id": "v5phE59mr1EK"
      },
      "execution_count": null,
      "outputs": []
    },
    {
      "cell_type": "markdown",
      "source": [
        "##### Which hyperparameter optimization technique have you used and why?"
      ],
      "metadata": {
        "id": "PiV4Ypx8fxKe"
      }
    },
    {
      "cell_type": "markdown",
      "source": [
        "* For hyperparameter tuning we have used RandomSearch CV as we are having very large data set approx. 1.4 million records are there and RandomSearch CV is fast for large data type"
      ],
      "metadata": {
        "id": "negyGRa7fxKf"
      }
    },
    {
      "cell_type": "markdown",
      "source": [
        "##### Have you seen any improvement? Note down the improvement with updates Evaluation metric Score Chart."
      ],
      "metadata": {
        "id": "TfvqoZmBfxKf"
      }
    },
    {
      "cell_type": "markdown",
      "source": [
        "* There is no improvement in the accuracy after the hyperparameter tuning in ridge and lasso model we get the same result as R2 score is 0.80"
      ],
      "metadata": {
        "id": "OaLui8CcfxKf"
      }
    },
    {
      "cell_type": "markdown",
      "source": [
        "### ML Model - 2"
      ],
      "metadata": {
        "id": "dJ2tPlVmpsJ0"
      }
    },
    {
      "cell_type": "code",
      "source": [
        "from sklearn.tree import DecisionTreeRegressor\n",
        "dt= DecisionTreeRegressor(max_depth=12)\n",
        "dt.fit(x_train,y_train)\n",
        "\n",
        "y_pred_dt=dt.predict(x_test)\n",
        "\n",
        "print(\"Testing RMSE: \",(np.sqrt(mean_squared_error(y_test,y_pred_dt))))\n",
        "print(\"Testing R2 score: \",r2_score(y_test,y_pred_dt))"
      ],
      "metadata": {
        "id": "9ANx0TO2Roar"
      },
      "execution_count": null,
      "outputs": []
    },
    {
      "cell_type": "markdown",
      "source": [
        "#### 1. Explain the ML Model used and it's performance using Evaluation metric Score Chart."
      ],
      "metadata": {
        "id": "JWYfwnehpsJ1"
      }
    },
    {
      "cell_type": "markdown",
      "source": [
        "* As we are having a big data set approx. 1.4 million so we used decision tree regressor which is comparatively very fast and perorm well on big data size.\n",
        "* Set the hyperparameter Max depth equal to 12 to avoid overfitting and rest parameter as a default value.\n",
        "* For the evaluation of the model, we have calculated the RMSE and R2 score\n",
        "* By evaluation we get the R2 score of 0.998 and RMSE 27 seconds on testing dataset."
      ],
      "metadata": {
        "id": "8k_cCu0Uwry5"
      }
    },
    {
      "cell_type": "code",
      "source": [
        "# Visualizing evaluation Metric Score chart\n",
        "plt.figure(figsize=(12,6))\n",
        "plt.plot(np.array(y_pred_dt))\n",
        "plt.plot(np.array(y_test))\n",
        "plt.legend([\"Predicted\",\"Actual\"])\n",
        "plt.show()"
      ],
      "metadata": {
        "id": "yEl-hgQWpsJ1"
      },
      "execution_count": null,
      "outputs": []
    },
    {
      "cell_type": "markdown",
      "source": [
        "#### 2. Cross- Validation & Hyperparameter Tuning"
      ],
      "metadata": {
        "id": "-jK_YjpMpsJ2"
      }
    },
    {
      "cell_type": "code",
      "source": [
        "score2 = (np.mean(cross_val_score(dt,x_train,y_train,cv=8)))\n",
        "print(score2)"
      ],
      "metadata": {
        "id": "I-9EiVNNSzlm"
      },
      "execution_count": null,
      "outputs": []
    },
    {
      "cell_type": "markdown",
      "source": [
        "#### 3. Explain each evaluation metric's indication towards business and the business impact pf the ML model used."
      ],
      "metadata": {
        "id": "bmKjuQ-FpsJ3"
      }
    },
    {
      "cell_type": "markdown",
      "source": [
        "Evaluation metric's\n",
        "* RMSE - The Root Mean Squared Error (RMSE) is one of the two main performance indicators for a regression model. It measures the average difference between values predicted by a model and the actual values. It provides an estimation of how well the model is able to predict the target value (accuracy).\n",
        "\n",
        "* R Square - R-squared (R2) is a statistical measure that represents the proportion of the variance for a dependent variable that's explained by an independent variable or variables in a regression model.\n",
        "\n",
        "* Adjusted R2 - The adjusted R-squared adjusts for the number of terms in the model. Importantly, its value increases only when the new term improves the model fit more than expected by chance alone. The adjusted R-squared value actually decreases when the term doesn't improve the model fit by a sufficient amount."
      ],
      "metadata": {
        "id": "BDKtOrBQpsJ3"
      }
    },
    {
      "cell_type": "markdown",
      "source": [
        "### ML Model - 3"
      ],
      "metadata": {
        "id": "Fze-IPXLpx6K"
      }
    },
    {
      "cell_type": "code",
      "source": [
        "# ML Model - 3 Implementation\n",
        "import xgboost as xg\n",
        "\n",
        "xgb_r = xg.XGBRegressor()\n",
        "\n",
        "# Fit the Algorithm\n",
        "xgb_r.fit(x_train,y_train)\n",
        "# Predict on the model\n",
        "y_pred_xg=xgb_r.predict(x_test)\n",
        "\n",
        "\n",
        "print(\"Testing RMSE: \",(np.sqrt(mean_squared_error(y_test,y_pred_xg))))\n",
        "\n",
        "print(\"Testing R2 score: \",r2_score(y_test,y_pred_xg))\n"
      ],
      "metadata": {
        "id": "FFrSXAtrpx6M"
      },
      "execution_count": null,
      "outputs": []
    },
    {
      "cell_type": "markdown",
      "source": [
        "#### 1. Explain the ML Model used and it's performance using Evaluation metric Score Chart."
      ],
      "metadata": {
        "id": "7AN1z2sKpx6M"
      }
    },
    {
      "cell_type": "markdown",
      "source": [
        "* XGBoost (Extreme Gradient Boosting) is an optimized distributed gradient boosting library. It uses gradient boosting (GBM) framework at core. It belongs to a family of boosting algorithms that convert weak learners into strong learners. A weak learner is one which is slightly better than random guessing.\n",
        "\n",
        " 'Boosting' here is a sequential process; i.e., trees are grown using the information from a previously grown tree one after the other. This process slowly learns from data and tries to improve its prediction in the subsequent iterations.\n",
        "* For the evaluation of the model, we have calculated the RMSE and R2 score\n",
        "* By evaluation we get the R2 score of 0.999 and RMSE 20 seconds on testing dataset. "
      ],
      "metadata": {
        "id": "-Ic-kqL67nGF"
      }
    },
    {
      "cell_type": "code",
      "source": [
        "# Visualizing evaluation Metric Score chart\n",
        "plt.figure(figsize=(12,6))\n",
        "plt.plot(np.array(y_pred_xg))\n",
        "plt.plot(np.array(y_test))\n",
        "plt.legend([\"Predicted\",\"Actual\"])\n",
        "plt.show()"
      ],
      "metadata": {
        "id": "xIY4lxxGpx6M"
      },
      "execution_count": null,
      "outputs": []
    },
    {
      "cell_type": "markdown",
      "source": [
        "### 1. Which Evaluation metrics did you consider for a positive business impact and why?"
      ],
      "metadata": {
        "id": "h_CCil-SKHpo"
      }
    },
    {
      "cell_type": "markdown",
      "source": [
        "What evaluation of ML models we have calculated the RMSE and R2 score on testing data.\n",
        "* RMSE :The Root Mean Squared Error (RMSE) is one of the two main performance indicators for a regression model. It measures the average difference between values predicted by a model and the actual values. It provides an estimation of how well the model is able to predict the target value (accuracy).The best rmse was 20sec which we received from the XGBoost Regressor.\n",
        "* R2 score: Is a statistical measure in a regression model that determines the proportion of variance in the dependent variable that can be explained by the independent variable.The best r2 score was 0.999 which we received from the XGBoost Regressor."
      ],
      "metadata": {
        "id": "jHVz9hHDKFms"
      }
    },
    {
      "cell_type": "markdown",
      "source": [
        "### 2. Which ML model did you choose from the above created models as your final prediction model and why?"
      ],
      "metadata": {
        "id": "cBFFvTBNJzUa"
      }
    },
    {
      "cell_type": "markdown",
      "source": [
        "* In comparison to above models Decision Tree Regressor and XGboost gives the best result which is around R2 score of 0.999 \n",
        "* In XGboost we have the least RMSE of 20 sec compared to Decision tree regressor which is having RMSE of 27 sec."
      ],
      "metadata": {
        "id": "6ksF5Q1LKTVm"
      }
    },
    {
      "cell_type": "markdown",
      "source": [
        "### 3. Explain the model which you have used and the feature importance using any model explainability tool?"
      ],
      "metadata": {
        "id": "HvGl1hHyA_VK"
      }
    },
    {
      "cell_type": "code",
      "source": [
        "pip install shap"
      ],
      "metadata": {
        "id": "2y-LuOIVNgG-"
      },
      "execution_count": null,
      "outputs": []
    },
    {
      "cell_type": "code",
      "source": [
        "import shap\n",
        "# Create object that can calculate shap values\n",
        "explainer = shap.TreeExplainer(dt)\n",
        "# Calculate Shap values\n",
        "shap_values = explainer.shap_values(x_test)"
      ],
      "metadata": {
        "id": "hyaxSM0DlYl7"
      },
      "execution_count": null,
      "outputs": []
    },
    {
      "cell_type": "code",
      "source": [
        "features=['pickup_longitude', 'pickup_latitude', 'dropoff_longitude',\n",
        "       'dropoff_latitude', 'distance', 'speed', 'month_June', 'month_May',\n",
        "       'weekday_Monday', 'weekday_Sunday']\n",
        "shap.summary_plot(shap_values, x_train, feature_names=features, plot_type=\"bar\")"
      ],
      "metadata": {
        "id": "XPwFESh9lgbb"
      },
      "execution_count": null,
      "outputs": []
    },
    {
      "cell_type": "markdown",
      "source": [
        "* Distance & Speed is the most important features for the prediction of trip duration."
      ],
      "metadata": {
        "id": "YnvVTiIxBL-C"
      }
    },
    {
      "cell_type": "markdown",
      "source": [
        "## ***8.*** ***Future Work (Optional)***"
      ],
      "metadata": {
        "id": "EyNgTHvd2WFk"
      }
    },
    {
      "cell_type": "markdown",
      "source": [
        "### 1. Save the best performing ml model in a pickle file or joblib file format for deployment process.\n"
      ],
      "metadata": {
        "id": "KH5McJBi2d8v"
      }
    },
    {
      "cell_type": "code",
      "source": [
        "# Save the File\n",
        "from joblib import dump, load\n",
        "dump(dt, 'NYC_taxi.joblib') "
      ],
      "metadata": {
        "id": "bQIANRl32f4J"
      },
      "execution_count": null,
      "outputs": []
    },
    {
      "cell_type": "markdown",
      "source": [
        "### 2. Again Load the saved model file and try to predict unseen data for a sanity check.\n"
      ],
      "metadata": {
        "id": "iW_Lq9qf2h6X"
      }
    },
    {
      "cell_type": "code",
      "source": [
        "# Load the File and predict unseen data.\n",
        "clf = load('NYC_taxi.joblib') "
      ],
      "metadata": {
        "id": "oEXk9ydD2nVC"
      },
      "execution_count": null,
      "outputs": []
    },
    {
      "cell_type": "markdown",
      "source": [
        "### ***Congrats! Your model is successfully created and ready for deployment on a live server for a real user interaction !!!***"
      ],
      "metadata": {
        "id": "-Kee-DAl2viO"
      }
    },
    {
      "cell_type": "markdown",
      "source": [
        "# **Conclusion**"
      ],
      "metadata": {
        "id": "gCX9965dhzqZ"
      }
    },
    {
      "cell_type": "markdown",
      "source": [
        "Based on the analysis and modeling of the NYC taxi trip duration prediction project, the following conclusions can be drawn:\n",
        "\n",
        "* The project was successful in building a model that can accurately predict the duration of a taxi trip based on various features such as pick-up and drop-off location, distance, time of day, and day of the week.\n",
        "\n",
        "* The model achieved a good level of accuracy, with a Root mean square error(RMSE) of around 20 secounds, indicating that it can make reasonably accurate predictions.\n",
        "\n",
        "* Exploratory data analysis helped in understanding the distribution of the target variable (trip duration) and identifying some important features that influence it, such as distance, day of the week, and time of day.\n",
        "\n",
        "* Feature engineering techniques, such as creating new features from existing ones and encoding categorical variables, helped in improving the performance of the models.\n",
        "\n",
        "* Several machine learning algorithms were tested for this regression problem, including linear regression, decision trees and XG boosting.XG boosting yielded the best performance, with an RMSE of around 20 seconds.\n",
        "\n",
        "* The model was also evaluated using cross-validation and tested on a holdout dataset to check for overfitting. The results were consistent, indicating that the model is reliable and robust.\n",
        "\n",
        "* The model can be used to predict the duration of a taxi trip in NYC based on the given features, which can be useful for taxi companies and passengers to plan their trips more efficiently.\n",
        "\n",
        "In conclusion, the machine learning project on predicting the duration of NYC taxi trips was successful in building an accurate model that can have practical applications in the real world.\n",
        "\n",
        "\n",
        "\n",
        "\n",
        "\n",
        "\n",
        "\n",
        "\n",
        "\n"
      ],
      "metadata": {
        "id": "Fjb1IsQkh3yE"
      }
    },
    {
      "cell_type": "markdown",
      "source": [
        "### ***Hurrah! You have successfully completed your Machine Learning Capstone Project !!!***"
      ],
      "metadata": {
        "id": "gIfDvo9L0UH2"
      }
    }
  ]
}